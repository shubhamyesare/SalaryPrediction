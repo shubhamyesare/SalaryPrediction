{
 "cells": [
  {
   "cell_type": "code",
   "execution_count": 1,
   "id": "loaded-emergency",
   "metadata": {},
   "outputs": [],
   "source": [
    "import pandas as pd\n",
    "import numpy as np\n",
    "import matplotlib.pyplot as plt\n",
    "import seaborn as sns\n",
    "\n",
    "import warnings \n",
    "warnings.filterwarnings('ignore')"
   ]
  },
  {
   "cell_type": "markdown",
   "id": "expected-history",
   "metadata": {},
   "source": [
    "# Importing Data"
   ]
  },
  {
   "cell_type": "code",
   "execution_count": 2,
   "id": "outside-fiction",
   "metadata": {},
   "outputs": [
    {
     "data": {
      "text/html": [
       "<div>\n",
       "<style scoped>\n",
       "    .dataframe tbody tr th:only-of-type {\n",
       "        vertical-align: middle;\n",
       "    }\n",
       "\n",
       "    .dataframe tbody tr th {\n",
       "        vertical-align: top;\n",
       "    }\n",
       "\n",
       "    .dataframe thead th {\n",
       "        text-align: right;\n",
       "    }\n",
       "</style>\n",
       "<table border=\"1\" class=\"dataframe\">\n",
       "  <thead>\n",
       "    <tr style=\"text-align: right;\">\n",
       "      <th></th>\n",
       "      <th>Respondent</th>\n",
       "      <th>MainBranch</th>\n",
       "      <th>Hobbyist</th>\n",
       "      <th>Age</th>\n",
       "      <th>Age1stCode</th>\n",
       "      <th>CompFreq</th>\n",
       "      <th>CompTotal</th>\n",
       "      <th>ConvertedComp</th>\n",
       "      <th>Country</th>\n",
       "      <th>CurrencyDesc</th>\n",
       "      <th>...</th>\n",
       "      <th>SurveyEase</th>\n",
       "      <th>SurveyLength</th>\n",
       "      <th>Trans</th>\n",
       "      <th>UndergradMajor</th>\n",
       "      <th>WebframeDesireNextYear</th>\n",
       "      <th>WebframeWorkedWith</th>\n",
       "      <th>WelcomeChange</th>\n",
       "      <th>WorkWeekHrs</th>\n",
       "      <th>YearsCode</th>\n",
       "      <th>YearsCodePro</th>\n",
       "    </tr>\n",
       "  </thead>\n",
       "  <tbody>\n",
       "    <tr>\n",
       "      <th>0</th>\n",
       "      <td>1</td>\n",
       "      <td>I am a developer by profession</td>\n",
       "      <td>Yes</td>\n",
       "      <td>NaN</td>\n",
       "      <td>13</td>\n",
       "      <td>Monthly</td>\n",
       "      <td>NaN</td>\n",
       "      <td>NaN</td>\n",
       "      <td>Germany</td>\n",
       "      <td>European Euro</td>\n",
       "      <td>...</td>\n",
       "      <td>Neither easy nor difficult</td>\n",
       "      <td>Appropriate in length</td>\n",
       "      <td>No</td>\n",
       "      <td>Computer science, computer engineering, or sof...</td>\n",
       "      <td>ASP.NET Core</td>\n",
       "      <td>ASP.NET;ASP.NET Core</td>\n",
       "      <td>Just as welcome now as I felt last year</td>\n",
       "      <td>50.0</td>\n",
       "      <td>36</td>\n",
       "      <td>27</td>\n",
       "    </tr>\n",
       "    <tr>\n",
       "      <th>1</th>\n",
       "      <td>2</td>\n",
       "      <td>I am a developer by profession</td>\n",
       "      <td>No</td>\n",
       "      <td>NaN</td>\n",
       "      <td>19</td>\n",
       "      <td>NaN</td>\n",
       "      <td>NaN</td>\n",
       "      <td>NaN</td>\n",
       "      <td>United Kingdom</td>\n",
       "      <td>Pound sterling</td>\n",
       "      <td>...</td>\n",
       "      <td>NaN</td>\n",
       "      <td>NaN</td>\n",
       "      <td>NaN</td>\n",
       "      <td>Computer science, computer engineering, or sof...</td>\n",
       "      <td>NaN</td>\n",
       "      <td>NaN</td>\n",
       "      <td>Somewhat more welcome now than last year</td>\n",
       "      <td>NaN</td>\n",
       "      <td>7</td>\n",
       "      <td>4</td>\n",
       "    </tr>\n",
       "    <tr>\n",
       "      <th>2</th>\n",
       "      <td>3</td>\n",
       "      <td>I code primarily as a hobby</td>\n",
       "      <td>Yes</td>\n",
       "      <td>NaN</td>\n",
       "      <td>15</td>\n",
       "      <td>NaN</td>\n",
       "      <td>NaN</td>\n",
       "      <td>NaN</td>\n",
       "      <td>Russian Federation</td>\n",
       "      <td>NaN</td>\n",
       "      <td>...</td>\n",
       "      <td>Neither easy nor difficult</td>\n",
       "      <td>Appropriate in length</td>\n",
       "      <td>NaN</td>\n",
       "      <td>NaN</td>\n",
       "      <td>NaN</td>\n",
       "      <td>NaN</td>\n",
       "      <td>Somewhat more welcome now than last year</td>\n",
       "      <td>NaN</td>\n",
       "      <td>4</td>\n",
       "      <td>NaN</td>\n",
       "    </tr>\n",
       "    <tr>\n",
       "      <th>3</th>\n",
       "      <td>4</td>\n",
       "      <td>I am a developer by profession</td>\n",
       "      <td>Yes</td>\n",
       "      <td>25.0</td>\n",
       "      <td>18</td>\n",
       "      <td>NaN</td>\n",
       "      <td>NaN</td>\n",
       "      <td>NaN</td>\n",
       "      <td>Albania</td>\n",
       "      <td>Albanian lek</td>\n",
       "      <td>...</td>\n",
       "      <td>NaN</td>\n",
       "      <td>NaN</td>\n",
       "      <td>No</td>\n",
       "      <td>Computer science, computer engineering, or sof...</td>\n",
       "      <td>NaN</td>\n",
       "      <td>NaN</td>\n",
       "      <td>Somewhat less welcome now than last year</td>\n",
       "      <td>40.0</td>\n",
       "      <td>7</td>\n",
       "      <td>4</td>\n",
       "    </tr>\n",
       "    <tr>\n",
       "      <th>4</th>\n",
       "      <td>5</td>\n",
       "      <td>I used to be a developer by profession, but no...</td>\n",
       "      <td>Yes</td>\n",
       "      <td>31.0</td>\n",
       "      <td>16</td>\n",
       "      <td>NaN</td>\n",
       "      <td>NaN</td>\n",
       "      <td>NaN</td>\n",
       "      <td>United States</td>\n",
       "      <td>NaN</td>\n",
       "      <td>...</td>\n",
       "      <td>Easy</td>\n",
       "      <td>Too short</td>\n",
       "      <td>No</td>\n",
       "      <td>Computer science, computer engineering, or sof...</td>\n",
       "      <td>Django;Ruby on Rails</td>\n",
       "      <td>Ruby on Rails</td>\n",
       "      <td>Just as welcome now as I felt last year</td>\n",
       "      <td>NaN</td>\n",
       "      <td>15</td>\n",
       "      <td>8</td>\n",
       "    </tr>\n",
       "  </tbody>\n",
       "</table>\n",
       "<p>5 rows × 61 columns</p>\n",
       "</div>"
      ],
      "text/plain": [
       "   Respondent                                         MainBranch Hobbyist  \\\n",
       "0           1                     I am a developer by profession      Yes   \n",
       "1           2                     I am a developer by profession       No   \n",
       "2           3                        I code primarily as a hobby      Yes   \n",
       "3           4                     I am a developer by profession      Yes   \n",
       "4           5  I used to be a developer by profession, but no...      Yes   \n",
       "\n",
       "    Age Age1stCode CompFreq  CompTotal  ConvertedComp             Country  \\\n",
       "0   NaN         13  Monthly        NaN            NaN             Germany   \n",
       "1   NaN         19      NaN        NaN            NaN      United Kingdom   \n",
       "2   NaN         15      NaN        NaN            NaN  Russian Federation   \n",
       "3  25.0         18      NaN        NaN            NaN             Albania   \n",
       "4  31.0         16      NaN        NaN            NaN       United States   \n",
       "\n",
       "     CurrencyDesc  ...                  SurveyEase           SurveyLength  \\\n",
       "0   European Euro  ...  Neither easy nor difficult  Appropriate in length   \n",
       "1  Pound sterling  ...                         NaN                    NaN   \n",
       "2             NaN  ...  Neither easy nor difficult  Appropriate in length   \n",
       "3    Albanian lek  ...                         NaN                    NaN   \n",
       "4             NaN  ...                        Easy              Too short   \n",
       "\n",
       "  Trans                                     UndergradMajor  \\\n",
       "0    No  Computer science, computer engineering, or sof...   \n",
       "1   NaN  Computer science, computer engineering, or sof...   \n",
       "2   NaN                                                NaN   \n",
       "3    No  Computer science, computer engineering, or sof...   \n",
       "4    No  Computer science, computer engineering, or sof...   \n",
       "\n",
       "  WebframeDesireNextYear    WebframeWorkedWith  \\\n",
       "0           ASP.NET Core  ASP.NET;ASP.NET Core   \n",
       "1                    NaN                   NaN   \n",
       "2                    NaN                   NaN   \n",
       "3                    NaN                   NaN   \n",
       "4   Django;Ruby on Rails         Ruby on Rails   \n",
       "\n",
       "                              WelcomeChange WorkWeekHrs YearsCode YearsCodePro  \n",
       "0   Just as welcome now as I felt last year        50.0        36           27  \n",
       "1  Somewhat more welcome now than last year         NaN         7            4  \n",
       "2  Somewhat more welcome now than last year         NaN         4          NaN  \n",
       "3  Somewhat less welcome now than last year        40.0         7            4  \n",
       "4   Just as welcome now as I felt last year         NaN        15            8  \n",
       "\n",
       "[5 rows x 61 columns]"
      ]
     },
     "execution_count": 2,
     "metadata": {},
     "output_type": "execute_result"
    }
   ],
   "source": [
    "df=pd.read_csv('survey_results_public.csv')\n",
    "df.head()"
   ]
  },
  {
   "cell_type": "code",
   "execution_count": 3,
   "id": "honest-literacy",
   "metadata": {},
   "outputs": [
    {
     "name": "stdout",
     "output_type": "stream",
     "text": [
      "<class 'pandas.core.frame.DataFrame'>\n",
      "RangeIndex: 64461 entries, 0 to 64460\n",
      "Data columns (total 61 columns):\n",
      " #   Column                        Non-Null Count  Dtype  \n",
      "---  ------                        --------------  -----  \n",
      " 0   Respondent                    64461 non-null  int64  \n",
      " 1   MainBranch                    64162 non-null  object \n",
      " 2   Hobbyist                      64416 non-null  object \n",
      " 3   Age                           45446 non-null  float64\n",
      " 4   Age1stCode                    57900 non-null  object \n",
      " 5   CompFreq                      40069 non-null  object \n",
      " 6   CompTotal                     34826 non-null  float64\n",
      " 7   ConvertedComp                 34756 non-null  float64\n",
      " 8   Country                       64072 non-null  object \n",
      " 9   CurrencyDesc                  45472 non-null  object \n",
      " 10  CurrencySymbol                45472 non-null  object \n",
      " 11  DatabaseDesireNextYear        44070 non-null  object \n",
      " 12  DatabaseWorkedWith            49537 non-null  object \n",
      " 13  DevType                       49370 non-null  object \n",
      " 14  EdLevel                       57431 non-null  object \n",
      " 15  Employment                    63854 non-null  object \n",
      " 16  Ethnicity                     45948 non-null  object \n",
      " 17  Gender                        50557 non-null  object \n",
      " 18  JobFactors                    49349 non-null  object \n",
      " 19  JobSat                        45194 non-null  object \n",
      " 20  JobSeek                       51727 non-null  object \n",
      " 21  LanguageDesireNextYear        54113 non-null  object \n",
      " 22  LanguageWorkedWith            57378 non-null  object \n",
      " 23  MiscTechDesireNextYear        42379 non-null  object \n",
      " 24  MiscTechWorkedWith            40314 non-null  object \n",
      " 25  NEWCollabToolsDesireNextYear  47287 non-null  object \n",
      " 26  NEWCollabToolsWorkedWith      52883 non-null  object \n",
      " 27  NEWDevOps                     42686 non-null  object \n",
      " 28  NEWDevOpsImpt                 41732 non-null  object \n",
      " 29  NEWEdImpt                     48465 non-null  object \n",
      " 30  NEWJobHunt                    42286 non-null  object \n",
      " 31  NEWJobHuntResearch            41022 non-null  object \n",
      " 32  NEWLearn                      56156 non-null  object \n",
      " 33  NEWOffTopic                   50804 non-null  object \n",
      " 34  NEWOnboardGood                42623 non-null  object \n",
      " 35  NEWOtherComms                 57205 non-null  object \n",
      " 36  NEWOvertime                   43231 non-null  object \n",
      " 37  NEWPurchaseResearch           37321 non-null  object \n",
      " 38  NEWPurpleLink                 54803 non-null  object \n",
      " 39  NEWSOSites                    58275 non-null  object \n",
      " 40  NEWStuck                      54983 non-null  object \n",
      " 41  OpSys                         56228 non-null  object \n",
      " 42  OrgSize                       44334 non-null  object \n",
      " 43  PlatformDesireNextYear        50605 non-null  object \n",
      " 44  PlatformWorkedWith            53843 non-null  object \n",
      " 45  PurchaseWhat                  39364 non-null  object \n",
      " 46  Sexuality                     43992 non-null  object \n",
      " 47  SOAccount                     56805 non-null  object \n",
      " 48  SOComm                        56476 non-null  object \n",
      " 49  SOPartFreq                    46792 non-null  object \n",
      " 50  SOVisitFreq                   56970 non-null  object \n",
      " 51  SurveyEase                    51802 non-null  object \n",
      " 52  SurveyLength                  51701 non-null  object \n",
      " 53  Trans                         49345 non-null  object \n",
      " 54  UndergradMajor                50995 non-null  object \n",
      " 55  WebframeDesireNextYear        40024 non-null  object \n",
      " 56  WebframeWorkedWith            42279 non-null  object \n",
      " 57  WelcomeChange                 52683 non-null  object \n",
      " 58  WorkWeekHrs                   41151 non-null  float64\n",
      " 59  YearsCode                     57684 non-null  object \n",
      " 60  YearsCodePro                  46349 non-null  object \n",
      "dtypes: float64(4), int64(1), object(56)\n",
      "memory usage: 30.0+ MB\n"
     ]
    }
   ],
   "source": [
    "df.info()"
   ]
  },
  {
   "cell_type": "code",
   "execution_count": 4,
   "id": "religious-mortality",
   "metadata": {},
   "outputs": [
    {
     "data": {
      "text/plain": [
       "Respondent                0\n",
       "MainBranch              299\n",
       "Hobbyist                 45\n",
       "Age                   19015\n",
       "Age1stCode             6561\n",
       "                      ...  \n",
       "WebframeWorkedWith    22182\n",
       "WelcomeChange         11778\n",
       "WorkWeekHrs           23310\n",
       "YearsCode              6777\n",
       "YearsCodePro          18112\n",
       "Length: 61, dtype: int64"
      ]
     },
     "execution_count": 4,
     "metadata": {},
     "output_type": "execute_result"
    }
   ],
   "source": [
    "df.isna().sum()"
   ]
  },
  {
   "cell_type": "code",
   "execution_count": 5,
   "id": "personalized-religion",
   "metadata": {},
   "outputs": [
    {
     "data": {
      "text/html": [
       "<div>\n",
       "<style scoped>\n",
       "    .dataframe tbody tr th:only-of-type {\n",
       "        vertical-align: middle;\n",
       "    }\n",
       "\n",
       "    .dataframe tbody tr th {\n",
       "        vertical-align: top;\n",
       "    }\n",
       "\n",
       "    .dataframe thead th {\n",
       "        text-align: right;\n",
       "    }\n",
       "</style>\n",
       "<table border=\"1\" class=\"dataframe\">\n",
       "  <thead>\n",
       "    <tr style=\"text-align: right;\">\n",
       "      <th></th>\n",
       "      <th>Country</th>\n",
       "      <th>Age</th>\n",
       "      <th>EdLevel</th>\n",
       "      <th>ProfessionalExp</th>\n",
       "      <th>Employment</th>\n",
       "      <th>Salary</th>\n",
       "    </tr>\n",
       "  </thead>\n",
       "  <tbody>\n",
       "    <tr>\n",
       "      <th>0</th>\n",
       "      <td>Germany</td>\n",
       "      <td>NaN</td>\n",
       "      <td>Master’s degree (M.A., M.S., M.Eng., MBA, etc.)</td>\n",
       "      <td>27</td>\n",
       "      <td>Independent contractor, freelancer, or self-em...</td>\n",
       "      <td>NaN</td>\n",
       "    </tr>\n",
       "    <tr>\n",
       "      <th>1</th>\n",
       "      <td>United Kingdom</td>\n",
       "      <td>NaN</td>\n",
       "      <td>Bachelor’s degree (B.A., B.S., B.Eng., etc.)</td>\n",
       "      <td>4</td>\n",
       "      <td>Employed full-time</td>\n",
       "      <td>NaN</td>\n",
       "    </tr>\n",
       "    <tr>\n",
       "      <th>2</th>\n",
       "      <td>Russian Federation</td>\n",
       "      <td>NaN</td>\n",
       "      <td>NaN</td>\n",
       "      <td>NaN</td>\n",
       "      <td>NaN</td>\n",
       "      <td>NaN</td>\n",
       "    </tr>\n",
       "    <tr>\n",
       "      <th>3</th>\n",
       "      <td>Albania</td>\n",
       "      <td>25.0</td>\n",
       "      <td>Master’s degree (M.A., M.S., M.Eng., MBA, etc.)</td>\n",
       "      <td>4</td>\n",
       "      <td>NaN</td>\n",
       "      <td>NaN</td>\n",
       "    </tr>\n",
       "    <tr>\n",
       "      <th>4</th>\n",
       "      <td>United States</td>\n",
       "      <td>31.0</td>\n",
       "      <td>Bachelor’s degree (B.A., B.S., B.Eng., etc.)</td>\n",
       "      <td>8</td>\n",
       "      <td>Employed full-time</td>\n",
       "      <td>NaN</td>\n",
       "    </tr>\n",
       "  </tbody>\n",
       "</table>\n",
       "</div>"
      ],
      "text/plain": [
       "              Country   Age                                          EdLevel  \\\n",
       "0             Germany   NaN  Master’s degree (M.A., M.S., M.Eng., MBA, etc.)   \n",
       "1      United Kingdom   NaN     Bachelor’s degree (B.A., B.S., B.Eng., etc.)   \n",
       "2  Russian Federation   NaN                                              NaN   \n",
       "3             Albania  25.0  Master’s degree (M.A., M.S., M.Eng., MBA, etc.)   \n",
       "4       United States  31.0     Bachelor’s degree (B.A., B.S., B.Eng., etc.)   \n",
       "\n",
       "  ProfessionalExp                                         Employment  Salary  \n",
       "0              27  Independent contractor, freelancer, or self-em...     NaN  \n",
       "1               4                                 Employed full-time     NaN  \n",
       "2             NaN                                                NaN     NaN  \n",
       "3               4                                                NaN     NaN  \n",
       "4               8                                 Employed full-time     NaN  "
      ]
     },
     "execution_count": 5,
     "metadata": {},
     "output_type": "execute_result"
    }
   ],
   "source": [
    "df=df[['Country','Age','EdLevel','YearsCodePro','Employment','ConvertedComp']]\n",
    "df=df.rename({'ConvertedComp':'Salary','YearsCodePro':'ProfessionalExp'},axis=1)\n",
    "df.head()"
   ]
  },
  {
   "cell_type": "markdown",
   "id": "crude-carroll",
   "metadata": {},
   "source": [
    "# Checking Null Value"
   ]
  },
  {
   "cell_type": "code",
   "execution_count": 6,
   "id": "embedded-ratio",
   "metadata": {},
   "outputs": [
    {
     "data": {
      "text/plain": [
       "Country              389\n",
       "Age                19015\n",
       "EdLevel             7030\n",
       "ProfessionalExp    18112\n",
       "Employment           607\n",
       "Salary             29705\n",
       "dtype: int64"
      ]
     },
     "execution_count": 6,
     "metadata": {},
     "output_type": "execute_result"
    }
   ],
   "source": [
    "df.isna().sum()"
   ]
  },
  {
   "cell_type": "code",
   "execution_count": 7,
   "id": "about-fence",
   "metadata": {},
   "outputs": [
    {
     "data": {
      "text/plain": [
       "<AxesSubplot:>"
      ]
     },
     "execution_count": 7,
     "metadata": {},
     "output_type": "execute_result"
    },
    {
     "data": {
      "image/png": "[encoded data removed]",
      "text/plain": [
       "<Figure size 432x288 with 1 Axes>"
      ]
     },
     "metadata": {
      "needs_background": "light"
     },
     "output_type": "display_data"
    }
   ],
   "source": [
    "sns.heatmap(df.isnull(),cbar=False)"
   ]
  },
  {
   "cell_type": "code",
   "execution_count": 8,
   "id": "female-amber",
   "metadata": {},
   "outputs": [
    {
     "data": {
      "text/html": [
       "<div>\n",
       "<style scoped>\n",
       "    .dataframe tbody tr th:only-of-type {\n",
       "        vertical-align: middle;\n",
       "    }\n",
       "\n",
       "    .dataframe tbody tr th {\n",
       "        vertical-align: top;\n",
       "    }\n",
       "\n",
       "    .dataframe thead th {\n",
       "        text-align: right;\n",
       "    }\n",
       "</style>\n",
       "<table border=\"1\" class=\"dataframe\">\n",
       "  <thead>\n",
       "    <tr style=\"text-align: right;\">\n",
       "      <th></th>\n",
       "      <th>Country</th>\n",
       "      <th>Age</th>\n",
       "      <th>EdLevel</th>\n",
       "      <th>ProfessionalExp</th>\n",
       "      <th>Employment</th>\n",
       "      <th>Salary</th>\n",
       "    </tr>\n",
       "  </thead>\n",
       "  <tbody>\n",
       "    <tr>\n",
       "      <th>7</th>\n",
       "      <td>United States</td>\n",
       "      <td>36.0</td>\n",
       "      <td>Bachelor’s degree (B.A., B.S., B.Eng., etc.)</td>\n",
       "      <td>13</td>\n",
       "      <td>Employed full-time</td>\n",
       "      <td>116000.0</td>\n",
       "    </tr>\n",
       "    <tr>\n",
       "      <th>9</th>\n",
       "      <td>United Kingdom</td>\n",
       "      <td>22.0</td>\n",
       "      <td>Master’s degree (M.A., M.S., M.Eng., MBA, etc.)</td>\n",
       "      <td>4</td>\n",
       "      <td>Employed full-time</td>\n",
       "      <td>32315.0</td>\n",
       "    </tr>\n",
       "    <tr>\n",
       "      <th>10</th>\n",
       "      <td>United Kingdom</td>\n",
       "      <td>23.0</td>\n",
       "      <td>Bachelor’s degree (B.A., B.S., B.Eng., etc.)</td>\n",
       "      <td>2</td>\n",
       "      <td>Employed full-time</td>\n",
       "      <td>40070.0</td>\n",
       "    </tr>\n",
       "    <tr>\n",
       "      <th>11</th>\n",
       "      <td>Spain</td>\n",
       "      <td>49.0</td>\n",
       "      <td>Some college/university study without earning ...</td>\n",
       "      <td>7</td>\n",
       "      <td>Employed full-time</td>\n",
       "      <td>14268.0</td>\n",
       "    </tr>\n",
       "    <tr>\n",
       "      <th>12</th>\n",
       "      <td>Netherlands</td>\n",
       "      <td>53.0</td>\n",
       "      <td>Secondary school (e.g. American high school, G...</td>\n",
       "      <td>20</td>\n",
       "      <td>Employed full-time</td>\n",
       "      <td>38916.0</td>\n",
       "    </tr>\n",
       "  </tbody>\n",
       "</table>\n",
       "</div>"
      ],
      "text/plain": [
       "           Country   Age                                            EdLevel  \\\n",
       "7    United States  36.0       Bachelor’s degree (B.A., B.S., B.Eng., etc.)   \n",
       "9   United Kingdom  22.0    Master’s degree (M.A., M.S., M.Eng., MBA, etc.)   \n",
       "10  United Kingdom  23.0       Bachelor’s degree (B.A., B.S., B.Eng., etc.)   \n",
       "11           Spain  49.0  Some college/university study without earning ...   \n",
       "12     Netherlands  53.0  Secondary school (e.g. American high school, G...   \n",
       "\n",
       "   ProfessionalExp          Employment    Salary  \n",
       "7               13  Employed full-time  116000.0  \n",
       "9                4  Employed full-time   32315.0  \n",
       "10               2  Employed full-time   40070.0  \n",
       "11               7  Employed full-time   14268.0  \n",
       "12              20  Employed full-time   38916.0  "
      ]
     },
     "execution_count": 8,
     "metadata": {},
     "output_type": "execute_result"
    }
   ],
   "source": [
    "df = df[df[\"Salary\"].notnull()]\n",
    "df.head()"
   ]
  },
  {
   "cell_type": "code",
   "execution_count": null,
   "id": "arabic-survivor",
   "metadata": {},
   "outputs": [],
   "source": []
  },
  {
   "cell_type": "code",
   "execution_count": 9,
   "id": "pregnant-airfare",
   "metadata": {},
   "outputs": [
    {
     "data": {
      "text/plain": [
       "Country               0\n",
       "Age                4160\n",
       "EdLevel             568\n",
       "ProfessionalExp     135\n",
       "Employment           39\n",
       "Salary                0\n",
       "dtype: int64"
      ]
     },
     "execution_count": 9,
     "metadata": {},
     "output_type": "execute_result"
    }
   ],
   "source": [
    "df.isna().sum()"
   ]
  },
  {
   "cell_type": "markdown",
   "id": "charming-deputy",
   "metadata": {},
   "source": [
    "# Handling Missing Values"
   ]
  },
  {
   "cell_type": "code",
   "execution_count": 10,
   "id": "approximate-prefix",
   "metadata": {},
   "outputs": [
    {
     "data": {
      "text/plain": [
       "array([ 36. ,  22. ,  23. ,  49. ,  53. ,  27. ,  45. ,  25. ,  32. ,\n",
       "        24. ,   nan,  31. ,  39. ,  34. ,  35. ,  38. ,  28. ,  44. ,\n",
       "        48. ,  20. ,  26. ,  42. ,  21. ,  29. ,  30. ,  41. ,  37. ,\n",
       "        63. ,  33. ,  43. ,  40. ,  51. ,  57. ,  60. ,  50. ,  59. ,\n",
       "        62. ,  52. ,  46. ,  49.5,  56. ,  47. ,  19. ,  54. ,  70. ,\n",
       "        55. ,  61. ,  18. ,  26.8,  64. ,  58. ,  65. ,  84. ,  73. ,\n",
       "        17. ,  99. ,  68. ,  74. ,  69. ,  16. ,  85. ,  32.5,  66. ,\n",
       "        23.8,  72. ,  67. ,  96. ,  79. , 279. ,  22.5,  27.5,  15. ,\n",
       "        89. ,   1. ,  98. ,  10. ,  13. ,  78. ,  31.5,  39.5,  71. ,\n",
       "        81. ,  83. ,  12. ,  75. ])"
      ]
     },
     "execution_count": 10,
     "metadata": {},
     "output_type": "execute_result"
    }
   ],
   "source": [
    "df['Age'].unique()"
   ]
  },
  {
   "cell_type": "code",
   "execution_count": 11,
   "id": "split-community",
   "metadata": {},
   "outputs": [],
   "source": [
    "\n",
    "df['Age']=df['Age'].astype('float')\n",
    "df['Age'].fillna(df['Age'].mean(),inplace=True)"
   ]
  },
  {
   "cell_type": "code",
   "execution_count": 12,
   "id": "planned-filter",
   "metadata": {},
   "outputs": [
    {
     "data": {
      "text/plain": [
       "array([36.       , 22.       , 23.       , 49.       , 53.       ,\n",
       "       27.       , 45.       , 25.       , 32.       , 24.       ,\n",
       "       32.1643875, 31.       , 39.       , 34.       , 35.       ,\n",
       "       38.       , 28.       , 44.       , 48.       , 26.       ,\n",
       "       42.       , 21.       , 29.       , 30.       , 41.       ,\n",
       "       37.       , 63.       , 33.       , 43.       , 40.       ,\n",
       "       51.       , 57.       , 60.       , 50.       , 59.       ,\n",
       "       62.       , 52.       , 46.       , 49.5      , 56.       ,\n",
       "       47.       , 54.       , 70.       , 55.       , 61.       ,\n",
       "       26.8      , 64.       , 58.       , 65.       , 68.       ,\n",
       "       69.       , 32.5      , 66.       , 23.8      , 67.       ,\n",
       "       22.5      , 27.5      , 31.5      , 39.5      ])"
      ]
     },
     "execution_count": 12,
     "metadata": {},
     "output_type": "execute_result"
    }
   ],
   "source": [
    "df = df[df[\"Age\"]>=21]\n",
    "df = df[df['Age']<=70]\n",
    "df['Age'].unique()"
   ]
  },
  {
   "cell_type": "code",
   "execution_count": 13,
   "id": "declared-learning",
   "metadata": {},
   "outputs": [
    {
     "data": {
      "text/plain": [
       "array(['Bachelor’s degree (B.A., B.S., B.Eng., etc.)',\n",
       "       'Master’s degree (M.A., M.S., M.Eng., MBA, etc.)',\n",
       "       'Some college/university study without earning a degree',\n",
       "       'Secondary school (e.g. American high school, German Realschule or Gymnasium, etc.)',\n",
       "       'Associate degree (A.A., A.S., etc.)',\n",
       "       'Professional degree (JD, MD, etc.)',\n",
       "       'Other doctoral degree (Ph.D., Ed.D., etc.)', nan,\n",
       "       'Primary/elementary school',\n",
       "       'I never completed any formal education'], dtype=object)"
      ]
     },
     "execution_count": 13,
     "metadata": {},
     "output_type": "execute_result"
    }
   ],
   "source": [
    "df['EdLevel'].unique()"
   ]
  },
  {
   "cell_type": "code",
   "execution_count": 14,
   "id": "thorough-republican",
   "metadata": {},
   "outputs": [],
   "source": [
    "df['EdLevel']=df['EdLevel'].fillna(df['EdLevel'].mode()[0])"
   ]
  },
  {
   "cell_type": "code",
   "execution_count": 15,
   "id": "owned-moore",
   "metadata": {},
   "outputs": [],
   "source": [
    "def clean_education(x):\n",
    "    if 'Bachelor’s degree' in x:\n",
    "        return 'Bachelor’s degree'\n",
    "    if 'Master’s degree' in x:\n",
    "        return 'Master’s degree'\n",
    "    if 'Professional degree' in x or 'Other doctoral' in x:\n",
    "        return 'Post grad'\n",
    "    return 'Less than a Bachelors'\n",
    "\n",
    "df['EdLevel'] = df['EdLevel'].apply(clean_education)"
   ]
  },
  {
   "cell_type": "code",
   "execution_count": 16,
   "id": "controlled-bradley",
   "metadata": {},
   "outputs": [
    {
     "data": {
      "text/plain": [
       "array(['Employed full-time',\n",
       "       'Independent contractor, freelancer, or self-employed',\n",
       "       'Employed part-time', nan], dtype=object)"
      ]
     },
     "execution_count": 16,
     "metadata": {},
     "output_type": "execute_result"
    }
   ],
   "source": [
    "df['Employment'].unique()"
   ]
  },
  {
   "cell_type": "code",
   "execution_count": 17,
   "id": "handled-money",
   "metadata": {},
   "outputs": [],
   "source": [
    "df['Employment']=df['Employment'].fillna(df['Employment'].mode()[0])"
   ]
  },
  {
   "cell_type": "code",
   "execution_count": null,
   "id": "sacred-cathedral",
   "metadata": {},
   "outputs": [],
   "source": []
  },
  {
   "cell_type": "code",
   "execution_count": 18,
   "id": "union-contrast",
   "metadata": {},
   "outputs": [],
   "source": [
    "def clean_emp(x):\n",
    "    if 'Employed full-time' in x:\n",
    "        return 'full-time'\n",
    "    if 'Independent contractor, freelancer, or self-employed' in x:\n",
    "        return 'self-employed'\n",
    "    if 'Employed part-time' in x :\n",
    "        return 'part-time'\n",
    "    return 'other'\n",
    "\n",
    "df['Employment'] = df['Employment'].apply(clean_emp)"
   ]
  },
  {
   "cell_type": "code",
   "execution_count": 19,
   "id": "accurate-intention",
   "metadata": {},
   "outputs": [
    {
     "data": {
      "text/plain": [
       "full-time        30316\n",
       "self-employed     2985\n",
       "part-time          943\n",
       "Name: Employment, dtype: int64"
      ]
     },
     "execution_count": 19,
     "metadata": {},
     "output_type": "execute_result"
    }
   ],
   "source": [
    "df['Employment'].value_counts()"
   ]
  },
  {
   "cell_type": "code",
   "execution_count": 20,
   "id": "played-template",
   "metadata": {},
   "outputs": [
    {
     "data": {
      "text/plain": [
       "array(['13', '4', '2', '7', '20', '1', '23', '3', '12', '10', '14', '29',\n",
       "       '6', '28', '8', '15', '11', '25', '5', '9', 'Less than 1 year',\n",
       "       '21', '16', '19', '35', '18', '24', '32', '22', '30', '38', '26',\n",
       "       '17', nan, '27', 'More than 50 years', '40', '33', '34', '36',\n",
       "       '39', '37', '31', '41', '45', '42', '43', '44', '48', '46', '50',\n",
       "       '47'], dtype=object)"
      ]
     },
     "execution_count": 20,
     "metadata": {},
     "output_type": "execute_result"
    }
   ],
   "source": [
    "df['ProfessionalExp'].unique()"
   ]
  },
  {
   "cell_type": "code",
   "execution_count": 21,
   "id": "broke-lounge",
   "metadata": {},
   "outputs": [],
   "source": [
    "def clean_exp(x):\n",
    "    if x=='More than 50 years':\n",
    "        return 50\n",
    "    if x=='Less than 1 year':\n",
    "        return 0.5\n",
    "    return float(x)\n",
    "df['ProfessionalExp']=df['ProfessionalExp'].apply(clean_exp)"
   ]
  },
  {
   "cell_type": "code",
   "execution_count": 22,
   "id": "freelance-hollow",
   "metadata": {},
   "outputs": [],
   "source": [
    "\n",
    "df['ProfessionalExp']=df['ProfessionalExp'].astype('float')\n",
    "df['ProfessionalExp'].fillna(df['ProfessionalExp'].mean(),inplace=True)"
   ]
  },
  {
   "cell_type": "code",
   "execution_count": 23,
   "id": "cooked-texture",
   "metadata": {},
   "outputs": [
    {
     "data": {
      "text/plain": [
       "Country            0\n",
       "Age                0\n",
       "EdLevel            0\n",
       "ProfessionalExp    0\n",
       "Employment         0\n",
       "Salary             0\n",
       "dtype: int64"
      ]
     },
     "execution_count": 23,
     "metadata": {},
     "output_type": "execute_result"
    }
   ],
   "source": [
    "df.isna().sum()"
   ]
  },
  {
   "cell_type": "code",
   "execution_count": 24,
   "id": "complete-shelf",
   "metadata": {},
   "outputs": [
    {
     "data": {
      "image/png": "[encoded data removed]",
      "text/plain": [
       "<Figure size 864x576 with 1 Axes>"
      ]
     },
     "metadata": {
      "needs_background": "light"
     },
     "output_type": "display_data"
    }
   ],
   "source": [
    "plt.figure(figsize=(12,8))\n",
    "sns.boxplot(data=df,x='Country',y='Salary')\n",
    "plt.suptitle('Salary (US$) v Country')\n",
    "plt.title('')\n",
    "plt.ylabel('Salary')\n",
    "plt.xticks(rotation=90)\n",
    "plt.show()"
   ]
  },
  {
   "cell_type": "code",
   "execution_count": 25,
   "id": "authorized-plumbing",
   "metadata": {},
   "outputs": [],
   "source": [
    "def shorten_categories(categories, range1):\n",
    "    categorical_map = {}\n",
    "    for i in range(len(categories)):\n",
    "        if categories.values[i] >= range1:\n",
    "            categorical_map[categories.index[i]] = categories.index[i]\n",
    "        else:\n",
    "            categorical_map[categories.index[i]] = 'Other'\n",
    "    return categorical_map"
   ]
  },
  {
   "cell_type": "code",
   "execution_count": 26,
   "id": "generous-penny",
   "metadata": {},
   "outputs": [
    {
     "data": {
      "text/plain": [
       "Other                 10209\n",
       "United States          8075\n",
       "India                  2655\n",
       "United Kingdom         2537\n",
       "Germany                2273\n",
       "Canada                 1329\n",
       "France                 1122\n",
       "Brazil                 1100\n",
       "Netherlands             800\n",
       "Poland                  787\n",
       "Australia               759\n",
       "Spain                   758\n",
       "Italy                   654\n",
       "Russian Federation      608\n",
       "Sweden                  578\n",
       "Name: Country, dtype: int64"
      ]
     },
     "execution_count": 26,
     "metadata": {},
     "output_type": "execute_result"
    }
   ],
   "source": [
    "country_map = shorten_categories(df.Country.value_counts(), 400)\n",
    "df['Country'] = df['Country'].map(country_map)\n",
    "df.Country.value_counts()"
   ]
  },
  {
   "cell_type": "code",
   "execution_count": 27,
   "id": "employed-train",
   "metadata": {},
   "outputs": [
    {
     "data": {
      "image/png": "[encoded data removed]",
      "text/plain": [
       "<Figure size 864x576 with 1 Axes>"
      ]
     },
     "metadata": {
      "needs_background": "light"
     },
     "output_type": "display_data"
    }
   ],
   "source": [
    "plt.figure(figsize=(12,8))\n",
    "sns.boxplot(data=df,x='Salary',y='Country')\n",
    "plt.suptitle('Salary (US$) v Country')\n",
    "plt.title('')\n",
    "plt.ylabel('Salary')\n",
    "plt.xticks(rotation=90)\n",
    "plt.show()"
   ]
  },
  {
   "cell_type": "code",
   "execution_count": 28,
   "id": "equivalent-mileage",
   "metadata": {},
   "outputs": [],
   "source": [
    "df = df[df[\"Salary\"] <= 220000]\n",
    "df = df[df[\"Salary\"] >= 10000]"
   ]
  },
  {
   "cell_type": "code",
   "execution_count": 29,
   "id": "least-staff",
   "metadata": {},
   "outputs": [],
   "source": [
    "a=df[(df['Country']=='United Kingdom') & (df['Salary']>130000)].index"
   ]
  },
  {
   "cell_type": "code",
   "execution_count": 30,
   "id": "wrong-making",
   "metadata": {},
   "outputs": [],
   "source": [
    "df.drop(a,inplace=True)"
   ]
  },
  {
   "cell_type": "code",
   "execution_count": 31,
   "id": "decent-height",
   "metadata": {},
   "outputs": [],
   "source": [
    "b=df[(df['Country']=='Spain') & (df['Salary']>80000)].index\n",
    "df.drop(b,inplace=True)"
   ]
  },
  {
   "cell_type": "code",
   "execution_count": 32,
   "id": "experienced-cholesterol",
   "metadata": {},
   "outputs": [],
   "source": [
    "c=df[(df['Country']=='Netherlands') & (df['Salary']>110000)].index\n",
    "df.drop(c,inplace=True)"
   ]
  },
  {
   "cell_type": "code",
   "execution_count": 33,
   "id": "developing-direction",
   "metadata": {},
   "outputs": [],
   "source": [
    "d=df[(df['Country']=='Germany') & (df['Salary']>115000)].index\n",
    "df.drop(d,inplace=True)"
   ]
  },
  {
   "cell_type": "code",
   "execution_count": 34,
   "id": "welcome-cheat",
   "metadata": {},
   "outputs": [],
   "source": [
    "e=df[(df['Country']=='Canada') & (df['Salary']>130000)].index\n",
    "df.drop(e,inplace=True)"
   ]
  },
  {
   "cell_type": "code",
   "execution_count": 35,
   "id": "placed-cargo",
   "metadata": {},
   "outputs": [],
   "source": [
    "f=df[(df['Country']=='Other') & (df['Salary']>100000)].index\n",
    "df.drop(f,inplace=True)"
   ]
  },
  {
   "cell_type": "code",
   "execution_count": 36,
   "id": "moved-spirit",
   "metadata": {},
   "outputs": [],
   "source": [
    "g=df[(df['Country']=='Italy') & (df['Salary']>55000)].index\n",
    "df.drop(g,inplace=True)"
   ]
  },
  {
   "cell_type": "code",
   "execution_count": 37,
   "id": "million-birthday",
   "metadata": {},
   "outputs": [],
   "source": [
    "h=df[(df['Country']=='Brazil') & (df['Salary']>40000)].index\n",
    "df.drop(h,inplace=True)"
   ]
  },
  {
   "cell_type": "code",
   "execution_count": 38,
   "id": "commercial-spirituality",
   "metadata": {},
   "outputs": [],
   "source": [
    "i=df[(df['Country']=='France') & (df['Salary']>80000)].index\n",
    "df.drop(i,inplace=True)"
   ]
  },
  {
   "cell_type": "code",
   "execution_count": 39,
   "id": "golden-madonna",
   "metadata": {},
   "outputs": [],
   "source": [
    "j=df[(df['Country']=='Sweden') & (df['Salary']>80000)].index\n",
    "df.drop(j,inplace=True)"
   ]
  },
  {
   "cell_type": "code",
   "execution_count": 40,
   "id": "offshore-johnston",
   "metadata": {},
   "outputs": [],
   "source": [
    "k=df[(df['Country']=='India') & (df['Salary']>40000)].index\n",
    "df.drop(k,inplace=True)"
   ]
  },
  {
   "cell_type": "code",
   "execution_count": 41,
   "id": "sunset-berry",
   "metadata": {},
   "outputs": [],
   "source": [
    "l=df[(df['Country']=='Poland') & (df['Salary']>70000)].index\n",
    "df.drop(l,inplace=True)"
   ]
  },
  {
   "cell_type": "code",
   "execution_count": 42,
   "id": "previous-password",
   "metadata": {},
   "outputs": [],
   "source": [
    "m=df[(df['Country']=='Australia') & (df['Salary']>130000)].index\n",
    "df.drop(m,inplace=True)"
   ]
  },
  {
   "cell_type": "code",
   "execution_count": 43,
   "id": "alpine-accountability",
   "metadata": {},
   "outputs": [],
   "source": [
    "n=df[(df['Country']=='Russian Federation') & (df['Salary']>50000)].index\n",
    "df.drop(n,inplace=True)"
   ]
  },
  {
   "cell_type": "code",
   "execution_count": 44,
   "id": "superb-filter",
   "metadata": {},
   "outputs": [
    {
     "data": {
      "image/png": "[encoded data removed]",
      "text/plain": [
       "<Figure size 864x576 with 1 Axes>"
      ]
     },
     "metadata": {
      "needs_background": "light"
     },
     "output_type": "display_data"
    }
   ],
   "source": [
    "plt.figure(figsize=(12,8))\n",
    "sns.boxplot(data=df,x=\"Salary\",y=\"Country\")\n",
    "plt.suptitle('Salary (US$) v Country')\n",
    "plt.title('')\n",
    "plt.ylabel('Country')\n",
    "plt.xticks(rotation=90)\n",
    "plt.show()"
   ]
  },
  {
   "cell_type": "code",
   "execution_count": 45,
   "id": "silent-billy",
   "metadata": {},
   "outputs": [
    {
     "data": {
      "text/plain": [
       "<seaborn.axisgrid.PairGrid at 0x1919ceb0>"
      ]
     },
     "execution_count": 45,
     "metadata": {},
     "output_type": "execute_result"
    },
    {
     "data": {
      "image/png": "[encoded data removed]",
      "text/plain": [
       "<Figure size 540x540 with 12 Axes>"
      ]
     },
     "metadata": {
      "needs_background": "light"
     },
     "output_type": "display_data"
    }
   ],
   "source": [
    "sns.pairplot(df)"
   ]
  },
  {
   "cell_type": "code",
   "execution_count": 46,
   "id": "formed-abuse",
   "metadata": {},
   "outputs": [],
   "source": [
    "from sklearn.preprocessing import LabelEncoder"
   ]
  },
  {
   "cell_type": "code",
   "execution_count": 47,
   "id": "opposed-poison",
   "metadata": {},
   "outputs": [
    {
     "data": {
      "text/plain": [
       "array([0, 2, 1, 3])"
      ]
     },
     "execution_count": 47,
     "metadata": {},
     "output_type": "execute_result"
    }
   ],
   "source": [
    "le_education = LabelEncoder()\n",
    "df['EdLevel'] = le_education.fit_transform(df['EdLevel'])\n",
    "df[\"EdLevel\"].unique()\n"
   ]
  },
  {
   "cell_type": "code",
   "execution_count": 48,
   "id": "thrown-workplace",
   "metadata": {},
   "outputs": [
    {
     "data": {
      "text/plain": [
       "array([14, 13, 11,  7,  4,  2,  8,  3,  1, 12,  6,  5,  9,  0, 10])"
      ]
     },
     "execution_count": 48,
     "metadata": {},
     "output_type": "execute_result"
    }
   ],
   "source": [
    "le_country = LabelEncoder()\n",
    "df['Country'] = le_country.fit_transform(df['Country'])\n",
    "df[\"Country\"].unique()"
   ]
  },
  {
   "cell_type": "code",
   "execution_count": 49,
   "id": "alive-favorite",
   "metadata": {},
   "outputs": [
    {
     "data": {
      "text/plain": [
       "array([0, 2, 1])"
      ]
     },
     "execution_count": 49,
     "metadata": {},
     "output_type": "execute_result"
    }
   ],
   "source": [
    "le_emp = LabelEncoder()\n",
    "df['Employment'] = le_emp.fit_transform(df['Employment'])\n",
    "df[\"Employment\"].unique()"
   ]
  },
  {
   "cell_type": "code",
   "execution_count": 50,
   "id": "demonstrated-transport",
   "metadata": {},
   "outputs": [],
   "source": [
    "df.reset_index(inplace=True)\n",
    "df.drop([\"index\"],axis=1,inplace=True)"
   ]
  },
  {
   "cell_type": "code",
   "execution_count": 51,
   "id": "mental-booking",
   "metadata": {},
   "outputs": [
    {
     "name": "stdout",
     "output_type": "stream",
     "text": [
      "<class 'pandas.core.frame.DataFrame'>\n",
      "RangeIndex: 26625 entries, 0 to 26624\n",
      "Data columns (total 6 columns):\n",
      " #   Column           Non-Null Count  Dtype  \n",
      "---  ------           --------------  -----  \n",
      " 0   Country          26625 non-null  int32  \n",
      " 1   Age              26625 non-null  float64\n",
      " 2   EdLevel          26625 non-null  int32  \n",
      " 3   ProfessionalExp  26625 non-null  float64\n",
      " 4   Employment       26625 non-null  int32  \n",
      " 5   Salary           26625 non-null  float64\n",
      "dtypes: float64(3), int32(3)\n",
      "memory usage: 936.2 KB\n"
     ]
    }
   ],
   "source": [
    "df.info()"
   ]
  },
  {
   "cell_type": "code",
   "execution_count": 52,
   "id": "recreational-christianity",
   "metadata": {},
   "outputs": [
    {
     "data": {
      "text/html": [
       "<div>\n",
       "<style scoped>\n",
       "    .dataframe tbody tr th:only-of-type {\n",
       "        vertical-align: middle;\n",
       "    }\n",
       "\n",
       "    .dataframe tbody tr th {\n",
       "        vertical-align: top;\n",
       "    }\n",
       "\n",
       "    .dataframe thead th {\n",
       "        text-align: right;\n",
       "    }\n",
       "</style>\n",
       "<table border=\"1\" class=\"dataframe\">\n",
       "  <thead>\n",
       "    <tr style=\"text-align: right;\">\n",
       "      <th></th>\n",
       "      <th>Country</th>\n",
       "      <th>Age</th>\n",
       "      <th>EdLevel</th>\n",
       "      <th>ProfessionalExp</th>\n",
       "      <th>Employment</th>\n",
       "      <th>Salary</th>\n",
       "    </tr>\n",
       "  </thead>\n",
       "  <tbody>\n",
       "    <tr>\n",
       "      <th>0</th>\n",
       "      <td>14</td>\n",
       "      <td>36.000000</td>\n",
       "      <td>0</td>\n",
       "      <td>13.0</td>\n",
       "      <td>0</td>\n",
       "      <td>116000.0</td>\n",
       "    </tr>\n",
       "    <tr>\n",
       "      <th>1</th>\n",
       "      <td>13</td>\n",
       "      <td>22.000000</td>\n",
       "      <td>2</td>\n",
       "      <td>4.0</td>\n",
       "      <td>0</td>\n",
       "      <td>32315.0</td>\n",
       "    </tr>\n",
       "    <tr>\n",
       "      <th>2</th>\n",
       "      <td>13</td>\n",
       "      <td>23.000000</td>\n",
       "      <td>0</td>\n",
       "      <td>2.0</td>\n",
       "      <td>0</td>\n",
       "      <td>40070.0</td>\n",
       "    </tr>\n",
       "    <tr>\n",
       "      <th>3</th>\n",
       "      <td>11</td>\n",
       "      <td>49.000000</td>\n",
       "      <td>1</td>\n",
       "      <td>7.0</td>\n",
       "      <td>0</td>\n",
       "      <td>14268.0</td>\n",
       "    </tr>\n",
       "    <tr>\n",
       "      <th>4</th>\n",
       "      <td>7</td>\n",
       "      <td>53.000000</td>\n",
       "      <td>1</td>\n",
       "      <td>20.0</td>\n",
       "      <td>0</td>\n",
       "      <td>38916.0</td>\n",
       "    </tr>\n",
       "    <tr>\n",
       "      <th>...</th>\n",
       "      <td>...</td>\n",
       "      <td>...</td>\n",
       "      <td>...</td>\n",
       "      <td>...</td>\n",
       "      <td>...</td>\n",
       "      <td>...</td>\n",
       "    </tr>\n",
       "    <tr>\n",
       "      <th>26620</th>\n",
       "      <td>14</td>\n",
       "      <td>32.164388</td>\n",
       "      <td>2</td>\n",
       "      <td>4.0</td>\n",
       "      <td>0</td>\n",
       "      <td>150000.0</td>\n",
       "    </tr>\n",
       "    <tr>\n",
       "      <th>26621</th>\n",
       "      <td>8</td>\n",
       "      <td>32.164388</td>\n",
       "      <td>0</td>\n",
       "      <td>4.0</td>\n",
       "      <td>0</td>\n",
       "      <td>38208.0</td>\n",
       "    </tr>\n",
       "    <tr>\n",
       "      <th>26622</th>\n",
       "      <td>8</td>\n",
       "      <td>32.164388</td>\n",
       "      <td>0</td>\n",
       "      <td>5.0</td>\n",
       "      <td>0</td>\n",
       "      <td>19428.0</td>\n",
       "    </tr>\n",
       "    <tr>\n",
       "      <th>26623</th>\n",
       "      <td>8</td>\n",
       "      <td>32.164388</td>\n",
       "      <td>0</td>\n",
       "      <td>3.0</td>\n",
       "      <td>0</td>\n",
       "      <td>15048.0</td>\n",
       "    </tr>\n",
       "    <tr>\n",
       "      <th>26624</th>\n",
       "      <td>8</td>\n",
       "      <td>32.164388</td>\n",
       "      <td>0</td>\n",
       "      <td>0.5</td>\n",
       "      <td>0</td>\n",
       "      <td>38759.0</td>\n",
       "    </tr>\n",
       "  </tbody>\n",
       "</table>\n",
       "<p>26625 rows × 6 columns</p>\n",
       "</div>"
      ],
      "text/plain": [
       "       Country        Age  EdLevel  ProfessionalExp  Employment    Salary\n",
       "0           14  36.000000        0             13.0           0  116000.0\n",
       "1           13  22.000000        2              4.0           0   32315.0\n",
       "2           13  23.000000        0              2.0           0   40070.0\n",
       "3           11  49.000000        1              7.0           0   14268.0\n",
       "4            7  53.000000        1             20.0           0   38916.0\n",
       "...        ...        ...      ...              ...         ...       ...\n",
       "26620       14  32.164388        2              4.0           0  150000.0\n",
       "26621        8  32.164388        0              4.0           0   38208.0\n",
       "26622        8  32.164388        0              5.0           0   19428.0\n",
       "26623        8  32.164388        0              3.0           0   15048.0\n",
       "26624        8  32.164388        0              0.5           0   38759.0\n",
       "\n",
       "[26625 rows x 6 columns]"
      ]
     },
     "execution_count": 52,
     "metadata": {},
     "output_type": "execute_result"
    }
   ],
   "source": [
    "df"
   ]
  },
  {
   "cell_type": "code",
   "execution_count": 53,
   "id": "leading-timing",
   "metadata": {},
   "outputs": [],
   "source": [
    "x=df.iloc[:,:-1]\n",
    "y=df.iloc[:,-1]"
   ]
  },
  {
   "cell_type": "code",
   "execution_count": 54,
   "id": "cooperative-dutch",
   "metadata": {},
   "outputs": [],
   "source": [
    "from sklearn.model_selection import train_test_split,cross_val_score\n",
    "xtrain,xtest,ytrain,ytest=train_test_split(x,y,test_size=0.3,random_state=1)"
   ]
  },
  {
   "cell_type": "markdown",
   "id": "angry-appeal",
   "metadata": {},
   "source": [
    "# Linear Regression"
   ]
  },
  {
   "cell_type": "code",
   "execution_count": 55,
   "id": "involved-inspiration",
   "metadata": {},
   "outputs": [],
   "source": [
    "from sklearn.linear_model import LinearRegression,Ridge,Lasso\n",
    "linreg=LinearRegression()\n",
    "linreg.fit(xtrain,ytrain)\n",
    "ypred=linreg.predict(xtest)"
   ]
  },
  {
   "cell_type": "code",
   "execution_count": 56,
   "id": "australian-arrival",
   "metadata": {},
   "outputs": [],
   "source": [
    "from sklearn.metrics import mean_absolute_error as mae,mean_squared_error as mse,r2_score as r"
   ]
  },
  {
   "cell_type": "code",
   "execution_count": 57,
   "id": "welcome-preservation",
   "metadata": {},
   "outputs": [
    {
     "name": "stdout",
     "output_type": "stream",
     "text": [
      "MAE: 27336.03017691921\n",
      "MSE: 1190954208.4892333\n",
      "RMSE: 165.33611274285846\n",
      "R2_Score: 0.3431605511946122\n"
     ]
    }
   ],
   "source": [
    "print(f'MAE: {mae(ytest,ypred)}')\n",
    "print(f'MSE: {mse(ytest,ypred)}')\n",
    "print(f'RMSE: {np.sqrt(mae(ytest,ypred))}')\n",
    "print(f'R2_Score: {r(ytest,ypred)}')"
   ]
  },
  {
   "cell_type": "code",
   "execution_count": 58,
   "id": "fabulous-rider",
   "metadata": {},
   "outputs": [],
   "source": [
    "def adj_r2(k, r2, n):\n",
    "    res = 1 - (1-r2) * ((n-1)/(n-(k+1)))\n",
    "    return res"
   ]
  },
  {
   "cell_type": "code",
   "execution_count": 59,
   "id": "ready-taiwan",
   "metadata": {},
   "outputs": [
    {
     "name": "stdout",
     "output_type": "stream",
     "text": [
      "cols -: 1, r2_score -: 0.25571660334673474, Adj.r2-: 0.25562340482473966\n",
      "cols -: 2, r2_score -: 0.3116119589250943, Adj.r2-: 0.3114395386267663\n",
      "cols -: 3, r2_score -: 0.3119502875585284, Adj.r2-: 0.3116917518449356\n",
      "cols -: 4, r2_score -: 0.3359648566791642, Adj.r2-: 0.3356321320677045\n",
      "cols -: 5, r2_score -: 0.3431605511946122, Adj.r2-: 0.3427491007756662\n"
     ]
    }
   ],
   "source": [
    "columns = []\n",
    "i = 1\n",
    "\n",
    "for col in x:\n",
    "    columns.append(col)\n",
    "    xnew = df[columns]\n",
    "    \n",
    "    xtrain, xtest, ytrain, ytest = train_test_split(xnew, y, test_size=0.3, random_state=1)\n",
    "    \n",
    "    linreg = LinearRegression()\n",
    "    linreg.fit(xtrain, ytrain)\n",
    "    \n",
    "    r2 = linreg.score(xtest, ytest)\n",
    "    n = len(xtest)\n",
    "    \n",
    "    result = adj_r2(i, r2, n)\n",
    "    \n",
    "    print(f\"cols -: {i}, r2_score -: {r2}, Adj.r2-: {result}\")\n",
    "    i = i + 1\n",
    "    "
   ]
  },
  {
   "cell_type": "code",
   "execution_count": 60,
   "id": "appointed-patch",
   "metadata": {},
   "outputs": [
    {
     "data": {
      "text/html": [
       "<div>\n",
       "<style scoped>\n",
       "    .dataframe tbody tr th:only-of-type {\n",
       "        vertical-align: middle;\n",
       "    }\n",
       "\n",
       "    .dataframe tbody tr th {\n",
       "        vertical-align: top;\n",
       "    }\n",
       "\n",
       "    .dataframe thead th {\n",
       "        text-align: right;\n",
       "    }\n",
       "</style>\n",
       "<table border=\"1\" class=\"dataframe\">\n",
       "  <thead>\n",
       "    <tr style=\"text-align: right;\">\n",
       "      <th></th>\n",
       "      <th>ActualY</th>\n",
       "      <th>Predicted Y</th>\n",
       "    </tr>\n",
       "  </thead>\n",
       "  <tbody>\n",
       "    <tr>\n",
       "      <th>22120</th>\n",
       "      <td>140000.0</td>\n",
       "      <td>97515.031636</td>\n",
       "    </tr>\n",
       "    <tr>\n",
       "      <th>23062</th>\n",
       "      <td>50000.0</td>\n",
       "      <td>74258.982935</td>\n",
       "    </tr>\n",
       "    <tr>\n",
       "      <th>14514</th>\n",
       "      <td>56211.0</td>\n",
       "      <td>61142.935703</td>\n",
       "    </tr>\n",
       "    <tr>\n",
       "      <th>13029</th>\n",
       "      <td>120000.0</td>\n",
       "      <td>79916.786704</td>\n",
       "    </tr>\n",
       "    <tr>\n",
       "      <th>19331</th>\n",
       "      <td>81074.0</td>\n",
       "      <td>47569.345328</td>\n",
       "    </tr>\n",
       "    <tr>\n",
       "      <th>...</th>\n",
       "      <td>...</td>\n",
       "      <td>...</td>\n",
       "    </tr>\n",
       "    <tr>\n",
       "      <th>3990</th>\n",
       "      <td>62697.0</td>\n",
       "      <td>30086.941272</td>\n",
       "    </tr>\n",
       "    <tr>\n",
       "      <th>20300</th>\n",
       "      <td>30372.0</td>\n",
       "      <td>66851.503223</td>\n",
       "    </tr>\n",
       "    <tr>\n",
       "      <th>7140</th>\n",
       "      <td>125000.0</td>\n",
       "      <td>82822.352346</td>\n",
       "    </tr>\n",
       "    <tr>\n",
       "      <th>3325</th>\n",
       "      <td>21000.0</td>\n",
       "      <td>45884.212539</td>\n",
       "    </tr>\n",
       "    <tr>\n",
       "      <th>5773</th>\n",
       "      <td>19458.0</td>\n",
       "      <td>60043.971073</td>\n",
       "    </tr>\n",
       "  </tbody>\n",
       "</table>\n",
       "<p>7988 rows × 2 columns</p>\n",
       "</div>"
      ],
      "text/plain": [
       "        ActualY   Predicted Y\n",
       "22120  140000.0  97515.031636\n",
       "23062   50000.0  74258.982935\n",
       "14514   56211.0  61142.935703\n",
       "13029  120000.0  79916.786704\n",
       "19331   81074.0  47569.345328\n",
       "...         ...           ...\n",
       "3990    62697.0  30086.941272\n",
       "20300   30372.0  66851.503223\n",
       "7140   125000.0  82822.352346\n",
       "3325    21000.0  45884.212539\n",
       "5773    19458.0  60043.971073\n",
       "\n",
       "[7988 rows x 2 columns]"
      ]
     },
     "execution_count": 60,
     "metadata": {},
     "output_type": "execute_result"
    }
   ],
   "source": [
    "dic={'ActualY':ytest,'Predicted Y':ypred}\n",
    "predval=pd.DataFrame(dic)\n",
    "predval"
   ]
  },
  {
   "cell_type": "code",
   "execution_count": 61,
   "id": "assured-fleet",
   "metadata": {},
   "outputs": [
    {
     "name": "stdout",
     "output_type": "stream",
     "text": [
      "100 -: 0.34311983101402344\n",
      "150 -: 0.34309860346730103\n",
      "200 -: 0.3430768513854139\n",
      "250 -: 0.34305461213850463\n",
      "300 -: 0.3430319209079282\n",
      "350 -: 0.34300881082165924\n",
      "400 -: 0.3429853130805033\n",
      "450 -: 0.3429614570758035\n",
      "500 -: 0.3429372704992726\n",
      "550 -: 0.3429127794455282\n",
      "600 -: 0.34288800850786894\n",
      "650 -: 0.34286298086777645\n",
      "700 -: 0.34283771837859933\n",
      "750 -: 0.34281224164383284\n",
      "800 -: 0.3427865700903757\n",
      "850 -: 0.3427607220371227\n",
      "900 -: 0.34273471475921335\n",
      "950 -: 0.3427085645482423\n"
     ]
    }
   ],
   "source": [
    "for i in range(100,1000,50):\n",
    "    l1=Ridge(alpha=i)\n",
    "    l1.fit(xtrain,ytrain)\n",
    "    yp=l1.predict(xtest)\n",
    "    print(f'{i} -: {l1.score(xtest,ytest)}')"
   ]
  },
  {
   "cell_type": "code",
   "execution_count": 62,
   "id": "fitted-sunrise",
   "metadata": {},
   "outputs": [],
   "source": [
    "l2=Ridge(alpha=11)\n",
    "l2.fit(xtrain,ytrain)\n",
    "ypredl1=l2.predict(xtest)\n"
   ]
  },
  {
   "cell_type": "code",
   "execution_count": 63,
   "id": "outdoor-latex",
   "metadata": {},
   "outputs": [
    {
     "name": "stdout",
     "output_type": "stream",
     "text": [
      "Accuracy: 0.34315619295508504\n"
     ]
    }
   ],
   "source": [
    "print(f'Accuracy: {r(ytest,ypredl1)}')"
   ]
  },
  {
   "cell_type": "code",
   "execution_count": 64,
   "id": "polished-dancing",
   "metadata": {},
   "outputs": [
    {
     "name": "stdout",
     "output_type": "stream",
     "text": [
      "100 -: 0.34311983101402344\n",
      "150 -: 0.34309860346730103\n",
      "200 -: 0.3430768513854139\n",
      "250 -: 0.34305461213850463\n",
      "300 -: 0.3430319209079282\n",
      "350 -: 0.34300881082165924\n",
      "400 -: 0.3429853130805033\n",
      "450 -: 0.3429614570758035\n",
      "500 -: 0.3429372704992726\n",
      "550 -: 0.3429127794455282\n",
      "600 -: 0.34288800850786894\n",
      "650 -: 0.34286298086777645\n",
      "700 -: 0.34283771837859933\n",
      "750 -: 0.34281224164383284\n",
      "800 -: 0.3427865700903757\n",
      "850 -: 0.3427607220371227\n",
      "900 -: 0.34273471475921335\n",
      "950 -: 0.3427085645482423\n"
     ]
    }
   ],
   "source": [
    "for i in range(100,1000,50):\n",
    "    l1=Ridge(alpha=i)\n",
    "    l1.fit(xtrain,ytrain)\n",
    "    yp=l1.predict(xtest)\n",
    "    print(f'{i} -: {l1.score(xtest,ytest)}')"
   ]
  },
  {
   "cell_type": "markdown",
   "id": "executive-produce",
   "metadata": {},
   "source": [
    "# K-Nearest Neighbors"
   ]
  },
  {
   "cell_type": "code",
   "execution_count": 65,
   "id": "transparent-spouse",
   "metadata": {},
   "outputs": [],
   "source": [
    "from sklearn.neighbors import KNeighborsRegressor\n"
   ]
  },
  {
   "cell_type": "code",
   "execution_count": 66,
   "id": "legal-reproduction",
   "metadata": {},
   "outputs": [],
   "source": [
    "\n",
    "accuracy=[]\n",
    "for i in range(1,31):\n",
    "    knn=KNeighborsRegressor(n_neighbors=i)\n",
    "    knn.fit(xtrain,ytrain)\n",
    "    pred=knn.predict(xtest)\n",
    "    ac=r(ytest,pred)\n",
    "    accuracy.append(ac)"
   ]
  },
  {
   "cell_type": "code",
   "execution_count": 67,
   "id": "hazardous-split",
   "metadata": {},
   "outputs": [
    {
     "data": {
      "image/png": "[encoded data removed]",
      "text/plain": [
       "<Figure size 720x432 with 1 Axes>"
      ]
     },
     "metadata": {
      "needs_background": "light"
     },
     "output_type": "display_data"
    }
   ],
   "source": [
    "plt.figure(figsize=(10,6))\n",
    "plt.plot(range(1,31), accuracy, color='blue', linestyle='dashed', marker='o',\n",
    "         markerfacecolor='red', markersize=10)\n",
    "\n",
    "plt.title('Accuracy vs. K Value')\n",
    "plt.xlabel('K')\n",
    "plt.ylabel('Accuracy Rate')\n",
    "plt.grid(True)\n",
    "plt.show()"
   ]
  },
  {
   "cell_type": "code",
   "execution_count": 68,
   "id": "younger-sleeping",
   "metadata": {},
   "outputs": [],
   "source": [
    "knn= KNeighborsRegressor(n_neighbors=16)\n",
    "knn.fit(xtrain,ytrain)\n",
    "ypred=knn.predict(xtest)"
   ]
  },
  {
   "cell_type": "code",
   "execution_count": 69,
   "id": "revised-visitor",
   "metadata": {},
   "outputs": [
    {
     "name": "stdout",
     "output_type": "stream",
     "text": [
      "MAE: 20641.271133262395\n",
      "MSE: 758974570.7785648\n",
      "RMSE: 143.67070381000573\n",
      "R2_Score: 0.5814075510427107\n"
     ]
    }
   ],
   "source": [
    "print(f'MAE: {mae(ytest,ypred)}')\n",
    "print(f'MSE: {mse(ytest,ypred)}')\n",
    "print(f'RMSE: {np.sqrt(mae(ytest,ypred))}')\n",
    "print(f'R2_Score: {r(ytest,ypred)}')"
   ]
  },
  {
   "cell_type": "code",
   "execution_count": 70,
   "id": "returning-bicycle",
   "metadata": {},
   "outputs": [
    {
     "data": {
      "text/html": [
       "<div>\n",
       "<style scoped>\n",
       "    .dataframe tbody tr th:only-of-type {\n",
       "        vertical-align: middle;\n",
       "    }\n",
       "\n",
       "    .dataframe tbody tr th {\n",
       "        vertical-align: top;\n",
       "    }\n",
       "\n",
       "    .dataframe thead th {\n",
       "        text-align: right;\n",
       "    }\n",
       "</style>\n",
       "<table border=\"1\" class=\"dataframe\">\n",
       "  <thead>\n",
       "    <tr style=\"text-align: right;\">\n",
       "      <th></th>\n",
       "      <th>ActualY</th>\n",
       "      <th>Predicted Y</th>\n",
       "    </tr>\n",
       "  </thead>\n",
       "  <tbody>\n",
       "    <tr>\n",
       "      <th>22120</th>\n",
       "      <td>140000.0</td>\n",
       "      <td>125281.2500</td>\n",
       "    </tr>\n",
       "    <tr>\n",
       "      <th>23062</th>\n",
       "      <td>50000.0</td>\n",
       "      <td>59771.0625</td>\n",
       "    </tr>\n",
       "    <tr>\n",
       "      <th>14514</th>\n",
       "      <td>56211.0</td>\n",
       "      <td>55934.3125</td>\n",
       "    </tr>\n",
       "    <tr>\n",
       "      <th>13029</th>\n",
       "      <td>120000.0</td>\n",
       "      <td>115418.7500</td>\n",
       "    </tr>\n",
       "    <tr>\n",
       "      <th>19331</th>\n",
       "      <td>81074.0</td>\n",
       "      <td>65752.1250</td>\n",
       "    </tr>\n",
       "    <tr>\n",
       "      <th>...</th>\n",
       "      <td>...</td>\n",
       "      <td>...</td>\n",
       "    </tr>\n",
       "    <tr>\n",
       "      <th>3990</th>\n",
       "      <td>62697.0</td>\n",
       "      <td>47466.8125</td>\n",
       "    </tr>\n",
       "    <tr>\n",
       "      <th>20300</th>\n",
       "      <td>30372.0</td>\n",
       "      <td>40220.5625</td>\n",
       "    </tr>\n",
       "    <tr>\n",
       "      <th>7140</th>\n",
       "      <td>125000.0</td>\n",
       "      <td>101365.0000</td>\n",
       "    </tr>\n",
       "    <tr>\n",
       "      <th>3325</th>\n",
       "      <td>21000.0</td>\n",
       "      <td>27583.6250</td>\n",
       "    </tr>\n",
       "    <tr>\n",
       "      <th>5773</th>\n",
       "      <td>19458.0</td>\n",
       "      <td>22732.5000</td>\n",
       "    </tr>\n",
       "  </tbody>\n",
       "</table>\n",
       "<p>7988 rows × 2 columns</p>\n",
       "</div>"
      ],
      "text/plain": [
       "        ActualY  Predicted Y\n",
       "22120  140000.0  125281.2500\n",
       "23062   50000.0   59771.0625\n",
       "14514   56211.0   55934.3125\n",
       "13029  120000.0  115418.7500\n",
       "19331   81074.0   65752.1250\n",
       "...         ...          ...\n",
       "3990    62697.0   47466.8125\n",
       "20300   30372.0   40220.5625\n",
       "7140   125000.0  101365.0000\n",
       "3325    21000.0   27583.6250\n",
       "5773    19458.0   22732.5000\n",
       "\n",
       "[7988 rows x 2 columns]"
      ]
     },
     "execution_count": 70,
     "metadata": {},
     "output_type": "execute_result"
    }
   ],
   "source": [
    "dic={'ActualY': ytest,'Predicted Y':ypred}\n",
    "predval=pd.DataFrame(dic)\n",
    "predval"
   ]
  },
  {
   "cell_type": "markdown",
   "id": "standard-aircraft",
   "metadata": {},
   "source": [
    "# Support Vector Machine"
   ]
  },
  {
   "cell_type": "code",
   "execution_count": 71,
   "id": "round-ukraine",
   "metadata": {},
   "outputs": [],
   "source": [
    "from sklearn.svm import SVR"
   ]
  },
  {
   "cell_type": "code",
   "execution_count": 72,
   "id": "decent-quick",
   "metadata": {},
   "outputs": [
    {
     "data": {
      "text/plain": [
       "SVR(kernel='linear')"
      ]
     },
     "execution_count": 72,
     "metadata": {},
     "output_type": "execute_result"
    }
   ],
   "source": [
    "svm = SVR(kernel='linear')\n",
    "svm.fit(xtrain,ytrain)"
   ]
  },
  {
   "cell_type": "code",
   "execution_count": 73,
   "id": "victorian-sheet",
   "metadata": {},
   "outputs": [],
   "source": [
    "ypred=svm.predict(xtest)"
   ]
  },
  {
   "cell_type": "code",
   "execution_count": 74,
   "id": "lesbian-submission",
   "metadata": {},
   "outputs": [
    {
     "name": "stdout",
     "output_type": "stream",
     "text": [
      "MAE: 27245.05082871793\n",
      "MSE: 1280960491.2562037\n",
      "RMSE: 165.06074890390485\n",
      "R2_Score: 0.2935199548221673\n"
     ]
    }
   ],
   "source": [
    "print(f'MAE: {mae(ytest,ypred)}')\n",
    "print(f'MSE: {mse(ytest,ypred)}')\n",
    "print(f'RMSE: {np.sqrt(mae(ytest,ypred))}')\n",
    "print(f'R2_Score: {r(ytest,ypred)}')"
   ]
  },
  {
   "cell_type": "code",
   "execution_count": 75,
   "id": "hazardous-fleet",
   "metadata": {},
   "outputs": [
    {
     "data": {
      "text/html": [
       "<div>\n",
       "<style scoped>\n",
       "    .dataframe tbody tr th:only-of-type {\n",
       "        vertical-align: middle;\n",
       "    }\n",
       "\n",
       "    .dataframe tbody tr th {\n",
       "        vertical-align: top;\n",
       "    }\n",
       "\n",
       "    .dataframe thead th {\n",
       "        text-align: right;\n",
       "    }\n",
       "</style>\n",
       "<table border=\"1\" class=\"dataframe\">\n",
       "  <thead>\n",
       "    <tr style=\"text-align: right;\">\n",
       "      <th></th>\n",
       "      <th>ActualY</th>\n",
       "      <th>Predicted Y</th>\n",
       "    </tr>\n",
       "  </thead>\n",
       "  <tbody>\n",
       "    <tr>\n",
       "      <th>22120</th>\n",
       "      <td>140000.0</td>\n",
       "      <td>83626.898332</td>\n",
       "    </tr>\n",
       "    <tr>\n",
       "      <th>23062</th>\n",
       "      <td>50000.0</td>\n",
       "      <td>60380.189070</td>\n",
       "    </tr>\n",
       "    <tr>\n",
       "      <th>14514</th>\n",
       "      <td>56211.0</td>\n",
       "      <td>73596.983231</td>\n",
       "    </tr>\n",
       "    <tr>\n",
       "      <th>13029</th>\n",
       "      <td>120000.0</td>\n",
       "      <td>68954.730376</td>\n",
       "    </tr>\n",
       "    <tr>\n",
       "      <th>19331</th>\n",
       "      <td>81074.0</td>\n",
       "      <td>44615.524088</td>\n",
       "    </tr>\n",
       "    <tr>\n",
       "      <th>...</th>\n",
       "      <td>...</td>\n",
       "      <td>...</td>\n",
       "    </tr>\n",
       "    <tr>\n",
       "      <th>3990</th>\n",
       "      <td>62697.0</td>\n",
       "      <td>27737.523735</td>\n",
       "    </tr>\n",
       "    <tr>\n",
       "      <th>20300</th>\n",
       "      <td>30372.0</td>\n",
       "      <td>61071.573144</td>\n",
       "    </tr>\n",
       "    <tr>\n",
       "      <th>7140</th>\n",
       "      <td>125000.0</td>\n",
       "      <td>69208.786621</td>\n",
       "    </tr>\n",
       "    <tr>\n",
       "      <th>3325</th>\n",
       "      <td>21000.0</td>\n",
       "      <td>38766.227968</td>\n",
       "    </tr>\n",
       "    <tr>\n",
       "      <th>5773</th>\n",
       "      <td>19458.0</td>\n",
       "      <td>48972.657863</td>\n",
       "    </tr>\n",
       "  </tbody>\n",
       "</table>\n",
       "<p>7988 rows × 2 columns</p>\n",
       "</div>"
      ],
      "text/plain": [
       "        ActualY   Predicted Y\n",
       "22120  140000.0  83626.898332\n",
       "23062   50000.0  60380.189070\n",
       "14514   56211.0  73596.983231\n",
       "13029  120000.0  68954.730376\n",
       "19331   81074.0  44615.524088\n",
       "...         ...           ...\n",
       "3990    62697.0  27737.523735\n",
       "20300   30372.0  61071.573144\n",
       "7140   125000.0  69208.786621\n",
       "3325    21000.0  38766.227968\n",
       "5773    19458.0  48972.657863\n",
       "\n",
       "[7988 rows x 2 columns]"
      ]
     },
     "execution_count": 75,
     "metadata": {},
     "output_type": "execute_result"
    }
   ],
   "source": [
    "dic={'ActualY': ytest,'Predicted Y':ypred}\n",
    "predval=pd.DataFrame(dic)\n",
    "predval"
   ]
  },
  {
   "cell_type": "markdown",
   "id": "existing-chapter",
   "metadata": {},
   "source": [
    "# DecisionTree"
   ]
  },
  {
   "cell_type": "code",
   "execution_count": 76,
   "id": "verified-pennsylvania",
   "metadata": {},
   "outputs": [],
   "source": [
    "from sklearn.tree import DecisionTreeRegressor"
   ]
  },
  {
   "cell_type": "code",
   "execution_count": 77,
   "id": "answering-diamond",
   "metadata": {},
   "outputs": [],
   "source": [
    "dt= DecisionTreeRegressor()"
   ]
  },
  {
   "cell_type": "code",
   "execution_count": 78,
   "id": "limiting-computer",
   "metadata": {},
   "outputs": [
    {
     "data": {
      "text/plain": [
       "DecisionTreeRegressor()"
      ]
     },
     "execution_count": 78,
     "metadata": {},
     "output_type": "execute_result"
    }
   ],
   "source": [
    "dt.fit(xtrain,ytrain)"
   ]
  },
  {
   "cell_type": "code",
   "execution_count": 79,
   "id": "independent-klein",
   "metadata": {},
   "outputs": [],
   "source": [
    "ypred=dt.predict(xtest)"
   ]
  },
  {
   "cell_type": "code",
   "execution_count": 80,
   "id": "matched-director",
   "metadata": {},
   "outputs": [
    {
     "name": "stdout",
     "output_type": "stream",
     "text": [
      "MAE: 21725.805664674655\n",
      "MSE: 915543667.596334\n",
      "RMSE: 147.39676273471767\n",
      "R2_Score: 0.49505598645636273\n"
     ]
    }
   ],
   "source": [
    "print(f'MAE: {mae(ytest,ypred)}')\n",
    "print(f'MSE: {mse(ytest,ypred)}')\n",
    "print(f'RMSE: {np.sqrt(mae(ytest,ypred))}')\n",
    "print(f'R2_Score: {r(ytest,ypred)}')"
   ]
  },
  {
   "cell_type": "code",
   "execution_count": 81,
   "id": "behind-pound",
   "metadata": {},
   "outputs": [
    {
     "data": {
      "text/plain": [
       "array([0.68464488, 0.10024785, 0.03078986, 0.16494302, 0.01937439])"
      ]
     },
     "execution_count": 81,
     "metadata": {},
     "output_type": "execute_result"
    }
   ],
   "source": [
    "dt.feature_importances_"
   ]
  },
  {
   "cell_type": "code",
   "execution_count": 82,
   "id": "pregnant-belarus",
   "metadata": {},
   "outputs": [
    {
     "name": "stdout",
     "output_type": "stream",
     "text": [
      "MAE: 21725.805664674655\n",
      "MSE: 915543667.596334\n",
      "RMSE: 147.39676273471767\n",
      "R2_Score: 0.49505598645636273\n"
     ]
    }
   ],
   "source": [
    "dt1 = DecisionTreeRegressor(max_depth=10)\n",
    "dt1.fit(xtrain,ytrain)\n",
    "ypred=dt.predict(xtest)\n",
    "\n",
    "print(f'MAE: {mae(ytest,ypred)}')\n",
    "print(f'MSE: {mse(ytest,ypred)}')\n",
    "print(f'RMSE: {np.sqrt(mae(ytest,ypred))}')\n",
    "print(f'R2_Score: {r(ytest,ypred)}')"
   ]
  },
  {
   "cell_type": "code",
   "execution_count": 83,
   "id": "romance-visitor",
   "metadata": {},
   "outputs": [
    {
     "name": "stdout",
     "output_type": "stream",
     "text": [
      " 1 -: 0.4837682508413781\n",
      " 2 -: 0.5525298696110623\n",
      " 3 -: 0.5746893752930841\n",
      " 4 -: 0.600371920595373\n",
      " 5 -: 0.6232174245291783\n",
      " 6 -: 0.6419086282693953\n",
      " 7 -: 0.6399940117643823\n",
      " 8 -: 0.6384307953645914\n",
      " 9 -: 0.6324784326645042\n",
      " 10 -: 0.6219127723843618\n",
      " 11 -: 0.6130529831624765\n",
      " 12 -: 0.5937639322370221\n",
      " 13 -: 0.5707571733136712\n",
      " 14 -: 0.5591553820876678\n",
      " 15 -: 0.5441348849597853\n",
      " 16 -: 0.5340107367047446\n",
      " 17 -: 0.5255871227454847\n",
      " 18 -: 0.5174171879831135\n",
      " 19 -: 0.5099395444350401\n",
      " 20 -: 0.5055267852258141\n",
      " 21 -: 0.5049119536717441\n",
      " 22 -: 0.504278445721913\n",
      " 23 -: 0.4981498953431207\n",
      " 24 -: 0.4973899400349664\n",
      " 25 -: 0.4941732622260815\n",
      " 26 -: 0.4965475669304734\n",
      " 27 -: 0.4958792688287057\n",
      " 28 -: 0.49427905087206303\n",
      " 29 -: 0.4938416291951655\n",
      " 30 -: 0.49602242925697937\n",
      " 31 -: 0.4925603730772121\n",
      " 32 -: 0.4958784373187758\n",
      " 33 -: 0.49322245374598894\n",
      " 34 -: 0.49444388783576554\n",
      " 35 -: 0.4937624252984345\n",
      " 36 -: 0.49476803345472453\n",
      " 37 -: 0.4952834982666311\n",
      " 38 -: 0.4937357591785625\n",
      " 39 -: 0.49208958176010154\n",
      " 40 -: 0.49252600391151713\n",
      " 41 -: 0.4941435958766325\n",
      " 42 -: 0.49382590645614255\n",
      " 43 -: 0.495435822095728\n",
      " 44 -: 0.49580460868717824\n",
      " 45 -: 0.4926615125919126\n",
      " 46 -: 0.4948025661783587\n",
      " 47 -: 0.49382935933307626\n",
      " 48 -: 0.4955114957745068\n",
      " 49 -: 0.4956286080609775\n"
     ]
    }
   ],
   "source": [
    "for i in range(1,50):\n",
    "    dt2 = DecisionTreeRegressor(max_depth=i)\n",
    "    dt2.fit(xtrain, ytrain)\n",
    "    ypred = dt2.predict(xtest)\n",
    "    print(f\" {i} -: {r(ytest, ypred)}\")"
   ]
  },
  {
   "cell_type": "code",
   "execution_count": 84,
   "id": "purple-campbell",
   "metadata": {},
   "outputs": [
    {
     "name": "stdout",
     "output_type": "stream",
     "text": [
      "MAE: 18851.742226807317\n",
      "MSE: 649276511.8810691\n",
      "RMSE: 137.30164684666866\n",
      "R2_Score: 0.6419086282693953\n"
     ]
    }
   ],
   "source": [
    "dt3 = DecisionTreeRegressor(max_depth=6)\n",
    "dt3.fit(xtrain,ytrain)\n",
    "ypred=dt3.predict(xtest)\n",
    "\n",
    "print(f'MAE: {mae(ytest,ypred)}')\n",
    "print(f'MSE: {mse(ytest,ypred)}')\n",
    "print(f'RMSE: {np.sqrt(mae(ytest,ypred))}')\n",
    "print(f'R2_Score: {r(ytest,ypred)}')"
   ]
  },
  {
   "cell_type": "code",
   "execution_count": 85,
   "id": "finite-stranger",
   "metadata": {},
   "outputs": [
    {
     "name": "stdout",
     "output_type": "stream",
     "text": [
      "MAE: 18835.45552175246\n",
      "MSE: 674089346.2174162\n",
      "RMSE: 137.24232409046584\n",
      "R2_Score: 0.6282237625435666\n"
     ]
    }
   ],
   "source": [
    "dt4 = DecisionTreeRegressor(min_samples_leaf=10)\n",
    "dt4.fit(xtrain,ytrain)\n",
    "ypred=dt4.predict(xtest)\n",
    "\n",
    "print(f'MAE: {mae(ytest,ypred)}')\n",
    "print(f'MSE: {mse(ytest,ypred)}')\n",
    "print(f'RMSE: {np.sqrt(mae(ytest,ypred))}')\n",
    "print(f'R2_Score: {r(ytest,ypred)}')"
   ]
  },
  {
   "cell_type": "code",
   "execution_count": 86,
   "id": "asian-profile",
   "metadata": {},
   "outputs": [
    {
     "name": "stdout",
     "output_type": "stream",
     "text": [
      " 1 -: 0.4946200389466868\n",
      " 2 -: 0.551232261888742\n",
      " 3 -: 0.5750481942809029\n",
      " 4 -: 0.5899494382618115\n",
      " 5 -: 0.604632923849749\n",
      " 6 -: 0.6105723360724541\n",
      " 7 -: 0.6162985296900387\n",
      " 8 -: 0.6199194152681908\n",
      " 9 -: 0.6241737918601902\n",
      " 10 -: 0.6282237625435666\n",
      " 11 -: 0.6296863129175403\n",
      " 12 -: 0.6309710574121875\n",
      " 13 -: 0.6326245719967613\n",
      " 14 -: 0.6346561527741554\n",
      " 15 -: 0.636089467563417\n",
      " 16 -: 0.6380856231971198\n",
      " 17 -: 0.6376973705157535\n",
      " 18 -: 0.637681762418054\n",
      " 19 -: 0.638707734509851\n",
      " 20 -: 0.6388455481031545\n",
      " 21 -: 0.6399913908905919\n",
      " 22 -: 0.6402705159986718\n",
      " 23 -: 0.6407397418540115\n",
      " 24 -: 0.6413952590770975\n",
      " 25 -: 0.6414319474264326\n",
      " 26 -: 0.6418147475610558\n",
      " 27 -: 0.6413939418847376\n",
      " 28 -: 0.6434659833992455\n",
      " 29 -: 0.6429149290484717\n",
      " 30 -: 0.6436910008984056\n",
      " 31 -: 0.6435380316318002\n",
      " 32 -: 0.6438864079465573\n",
      " 33 -: 0.6442190705688422\n",
      " 34 -: 0.6446915796111559\n",
      " 35 -: 0.6450166174030452\n",
      " 36 -: 0.6445877490995038\n",
      " 37 -: 0.6451652475338858\n",
      " 38 -: 0.6461387050230827\n",
      " 39 -: 0.6461382045259774\n",
      " 40 -: 0.6462571790780565\n",
      " 41 -: 0.6463139790157819\n",
      " 42 -: 0.6462490721507061\n",
      " 43 -: 0.6465491929778941\n",
      " 44 -: 0.6467294199674726\n",
      " 45 -: 0.6461137645769823\n",
      " 46 -: 0.6473568433133183\n",
      " 47 -: 0.6472298002866507\n",
      " 48 -: 0.6472640571097134\n",
      " 49 -: 0.6467461025646526\n",
      " 50 -: 0.6473932521215575\n",
      " 51 -: 0.6469977831375233\n",
      " 52 -: 0.6473076462309302\n",
      " 53 -: 0.6480902361450174\n",
      " 54 -: 0.648782483363527\n",
      " 55 -: 0.6486816861789686\n",
      " 56 -: 0.6484984542516468\n",
      " 57 -: 0.6487559857209588\n",
      " 58 -: 0.6486754859030444\n",
      " 59 -: 0.6493229060414523\n",
      " 60 -: 0.6484860057813355\n",
      " 61 -: 0.648291431667654\n",
      " 62 -: 0.6489575371033354\n",
      " 63 -: 0.6493633559074516\n",
      " 64 -: 0.6491353000425195\n",
      " 65 -: 0.6497945082771266\n",
      " 66 -: 0.6500144088087892\n",
      " 67 -: 0.6504904635005546\n",
      " 68 -: 0.6502806439108522\n",
      " 69 -: 0.6502278786335394\n",
      " 70 -: 0.6502057898427318\n",
      " 71 -: 0.6501397385736689\n",
      " 72 -: 0.649523007333399\n",
      " 73 -: 0.649621225814186\n",
      " 74 -: 0.6496843476669871\n"
     ]
    }
   ],
   "source": [
    "for i in range(1,75):\n",
    "    dt5 = DecisionTreeRegressor(min_samples_leaf=i)\n",
    "    dt5.fit(xtrain, ytrain)\n",
    "    ypred = dt5.predict(xtest)\n",
    "    print(f\" {i} -: {r(ytest, ypred)}\")"
   ]
  },
  {
   "cell_type": "code",
   "execution_count": 87,
   "id": "unlimited-disaster",
   "metadata": {},
   "outputs": [
    {
     "name": "stdout",
     "output_type": "stream",
     "text": [
      "MAE: 18481.408086244865\n",
      "MSE: 633716282.0506303\n",
      "RMSE: 135.94634267329468\n",
      "R2_Score: 0.6504904635005546\n"
     ]
    }
   ],
   "source": [
    "dt6 = DecisionTreeRegressor(min_samples_leaf=67)\n",
    "dt6.fit(xtrain,ytrain)\n",
    "ypred1=dt6.predict(xtest)\n",
    "\n",
    "print(f'MAE: {mae(ytest,ypred1)}')\n",
    "print(f'MSE: {mse(ytest,ypred1)}')\n",
    "print(f'RMSE: {np.sqrt(mae(ytest,ypred1))}')\n",
    "print(f'R2_Score: {r(ytest,ypred1)}')"
   ]
  },
  {
   "cell_type": "markdown",
   "id": "exposed-juvenile",
   "metadata": {},
   "source": [
    "# friedman_mse"
   ]
  },
  {
   "cell_type": "code",
   "execution_count": 88,
   "id": "breathing-pound",
   "metadata": {},
   "outputs": [
    {
     "name": "stdout",
     "output_type": "stream",
     "text": [
      " 1 -: 0.4837682508413781\n",
      " 2 -: 0.5525298696110623\n",
      " 3 -: 0.5746893752930841\n",
      " 4 -: 0.600371920595373\n",
      " 5 -: 0.6232174245291783\n",
      " 6 -: 0.6419086282693953\n",
      " 7 -: 0.6397194902615227\n",
      " 8 -: 0.639041929164803\n",
      " 9 -: 0.6318724063198409\n",
      " 10 -: 0.6229475662675502\n",
      " 11 -: 0.610804551442294\n",
      " 12 -: 0.5925685466597634\n",
      " 13 -: 0.5730429544192798\n",
      " 14 -: 0.5595721998213166\n",
      " 15 -: 0.5424931284030592\n",
      " 16 -: 0.5345820100216185\n",
      " 17 -: 0.5254706990851883\n",
      " 18 -: 0.5142389763464739\n",
      " 19 -: 0.5121394054434782\n",
      " 20 -: 0.507526947323456\n",
      " 21 -: 0.5052657741414089\n",
      " 22 -: 0.5013728645082418\n",
      " 23 -: 0.49844485928629456\n",
      " 24 -: 0.49959080502071906\n",
      " 25 -: 0.49556561112797914\n",
      " 26 -: 0.49516048368111176\n",
      " 27 -: 0.49360197585743826\n",
      " 28 -: 0.4946067615959546\n",
      " 29 -: 0.49351584330327636\n",
      " 30 -: 0.4967799785990137\n",
      " 31 -: 0.4947116002660984\n",
      " 32 -: 0.49545926772985205\n",
      " 33 -: 0.49536476024046405\n",
      " 34 -: 0.4967247763512127\n",
      " 35 -: 0.491328457913355\n",
      " 36 -: 0.4973038958827043\n",
      " 37 -: 0.49528872280442915\n",
      " 38 -: 0.4937980214264487\n",
      " 39 -: 0.4918806610081189\n",
      " 40 -: 0.4950667071313948\n",
      " 41 -: 0.49712182964358875\n",
      " 42 -: 0.4926782326740401\n",
      " 43 -: 0.49412392979753084\n",
      " 44 -: 0.4935706956224831\n",
      " 45 -: 0.49265325736010046\n",
      " 46 -: 0.49609998192385707\n",
      " 47 -: 0.4959107217836858\n",
      " 48 -: 0.4925660772750742\n",
      " 49 -: 0.4951278269957712\n"
     ]
    }
   ],
   "source": [
    "for i in range(1,50):\n",
    "    dt7 = DecisionTreeRegressor(criterion='friedman_mse',max_depth=i)\n",
    "    dt7.fit(xtrain, ytrain)\n",
    "    ypred = dt7.predict(xtest)\n",
    "    print(f\" {i} -: {r(ytest, ypred)}\")"
   ]
  },
  {
   "cell_type": "code",
   "execution_count": 89,
   "id": "democratic-rebel",
   "metadata": {},
   "outputs": [
    {
     "name": "stdout",
     "output_type": "stream",
     "text": [
      "MAE: 18853.645081088736\n",
      "MSE: 649324463.8089609\n",
      "RMSE: 137.30857613815948\n",
      "R2_Score: 0.6418821816456198\n"
     ]
    }
   ],
   "source": [
    "dt8 = DecisionTreeRegressor(criterion='friedman_mse',max_depth=6)\n",
    "dt8.fit(xtrain,ytrain)\n",
    "ypred=dt8.predict(xtest)\n",
    "\n",
    "print(f'MAE: {mae(ytest,ypred)}')\n",
    "print(f'MSE: {mse(ytest,ypred)}')\n",
    "print(f'RMSE: {np.sqrt(mae(ytest,ypred))}')\n",
    "print(f'R2_Score: {r(ytest,ypred)}')"
   ]
  },
  {
   "cell_type": "code",
   "execution_count": 90,
   "id": "coated-bible",
   "metadata": {},
   "outputs": [
    {
     "name": "stdout",
     "output_type": "stream",
     "text": [
      " 1 -: -0.0002849718906960952\n",
      " 2 -: -0.0011005133260693079\n",
      " 3 -: -0.0007270349658543562\n",
      " 4 -: -0.00061591975979014\n",
      " 5 -: 0.003123490260104722\n",
      " 6 -: 0.007508954886789487\n",
      " 7 -: 0.47167330859071877\n",
      " 8 -: 0.48111162892678316\n",
      " 9 -: 0.4870487923882052\n",
      " 10 -: 0.4847072438165809\n",
      " 11 -: 0.48715502707995906\n",
      " 12 -: 0.5033774819114538\n",
      " 13 -: 0.501096993050349\n",
      " 14 -: 0.5031262842312525\n",
      " 15 -: 0.5082609792243792\n",
      " 16 -: 0.5146648858963075\n",
      " 17 -: 0.5173052957885944\n",
      " 18 -: 0.5192386945300589\n",
      " 19 -: 0.5150495853817838\n",
      " 20 -: 0.5214750325340718\n",
      " 21 -: 0.5204854606523068\n",
      " 22 -: 0.5198180417981425\n",
      " 23 -: 0.5202373034156785\n",
      " 24 -: 0.5188824465094725\n",
      " 25 -: 0.5109649988905275\n",
      " 26 -: 0.5095842638273502\n",
      " 27 -: 0.5048382030177654\n",
      " 28 -: 0.5023681667920095\n",
      " 29 -: 0.5020378228452218\n",
      " 30 -: 0.4958927731567617\n",
      " 31 -: 0.4898606575248612\n",
      " 32 -: 0.4831818679444708\n",
      " 33 -: 0.47932046063410017\n",
      " 34 -: 0.47230044681916983\n",
      " 35 -: 0.47945466642285595\n",
      " 36 -: 0.4727286000621308\n",
      " 37 -: 0.47149464652382567\n",
      " 38 -: 0.4699249746909949\n",
      " 39 -: 0.46989724000219724\n",
      " 40 -: 0.46474690036424127\n",
      " 41 -: 0.46712642981138464\n",
      " 42 -: 0.46634470690079144\n",
      " 43 -: 0.4637941004611358\n",
      " 44 -: 0.465790314203991\n",
      " 45 -: 0.46592605102618245\n",
      " 46 -: 0.46328317817216425\n",
      " 47 -: 0.4680638057589793\n",
      " 48 -: 0.4645571722464378\n",
      " 49 -: 0.465864301447254\n"
     ]
    }
   ],
   "source": [
    "for i in range(1,50):\n",
    "    dt11 = DecisionTreeRegressor(criterion='poisson',max_depth=i)\n",
    "    dt11.fit(xtrain, ytrain)\n",
    "    ypred = dt11.predict(xtest)\n",
    "    print(f\" {i} -: {r(ytest, ypred)}\")"
   ]
  },
  {
   "cell_type": "code",
   "execution_count": 91,
   "id": "beneficial-drama",
   "metadata": {},
   "outputs": [
    {
     "name": "stdout",
     "output_type": "stream",
     "text": [
      "MAE: 22288.420820305913\n",
      "MSE: 868092141.7458823\n",
      "RMSE: 149.29307023537936\n",
      "R2_Score: 0.5212266266559746\n"
     ]
    }
   ],
   "source": [
    "dt12 = DecisionTreeRegressor(criterion='poisson',max_depth=23)\n",
    "dt12.fit(xtrain,ytrain)\n",
    "ypred=dt12.predict(xtest)\n",
    "\n",
    "print(f'MAE: {mae(ytest,ypred)}')\n",
    "print(f'MSE: {mse(ytest,ypred)}')\n",
    "print(f'RMSE: {np.sqrt(mae(ytest,ypred))}')\n",
    "print(f'R2_Score: {r(ytest,ypred)}')"
   ]
  },
  {
   "cell_type": "code",
   "execution_count": 92,
   "id": "cordless-scratch",
   "metadata": {},
   "outputs": [
    {
     "name": "stdout",
     "output_type": "stream",
     "text": [
      " 1 -: 0.49516734257053596\n",
      " 2 -: 0.5511590875797552\n",
      " 3 -: 0.575141561188595\n",
      " 4 -: 0.5899299687458605\n",
      " 5 -: 0.604632923849749\n",
      " 6 -: 0.6105515779231401\n",
      " 7 -: 0.6162777715407247\n",
      " 8 -: 0.6199194152681908\n",
      " 9 -: 0.6241737918601902\n",
      " 10 -: 0.6282237625435666\n",
      " 11 -: 0.6296863129175403\n",
      " 12 -: 0.6309710574121875\n",
      " 13 -: 0.6326245719967613\n",
      " 14 -: 0.6346561527741554\n",
      " 15 -: 0.636089467563417\n",
      " 16 -: 0.6380856231971198\n",
      " 17 -: 0.6376973705157535\n",
      " 18 -: 0.637681762418054\n",
      " 19 -: 0.638707734509851\n",
      " 20 -: 0.6388455481031545\n",
      " 21 -: 0.6399913908905919\n",
      " 22 -: 0.6402705159986718\n",
      " 23 -: 0.6407397418540115\n",
      " 24 -: 0.6413952590770975\n",
      " 25 -: 0.6414319474264326\n",
      " 26 -: 0.6418147475610558\n",
      " 27 -: 0.6413939418847376\n",
      " 28 -: 0.6434659833992455\n",
      " 29 -: 0.6429149290484717\n",
      " 30 -: 0.6436910008984056\n",
      " 31 -: 0.6435380316318002\n",
      " 32 -: 0.6438864079465573\n",
      " 33 -: 0.6442190705688422\n",
      " 34 -: 0.6446915796111559\n",
      " 35 -: 0.6450166174030452\n",
      " 36 -: 0.6445877490995038\n",
      " 37 -: 0.6451652475338858\n",
      " 38 -: 0.6461387050230827\n",
      " 39 -: 0.6461382045259774\n",
      " 40 -: 0.6462571790780565\n",
      " 41 -: 0.6463139790157819\n",
      " 42 -: 0.6462490721507061\n",
      " 43 -: 0.6465491929778941\n",
      " 44 -: 0.6467294199674726\n",
      " 45 -: 0.6461137645769823\n",
      " 46 -: 0.6473568433133183\n",
      " 47 -: 0.6472298002866507\n",
      " 48 -: 0.6472640571097134\n",
      " 49 -: 0.6467461025646526\n",
      " 50 -: 0.6473932521215575\n",
      " 51 -: 0.6469977831375233\n",
      " 52 -: 0.6473076462309302\n",
      " 53 -: 0.6480902361450174\n",
      " 54 -: 0.648782483363527\n",
      " 55 -: 0.6486816861789686\n",
      " 56 -: 0.6484984542516468\n",
      " 57 -: 0.6487559857209588\n",
      " 58 -: 0.6486754859030444\n",
      " 59 -: 0.6493229060414523\n",
      " 60 -: 0.6484860057813355\n",
      " 61 -: 0.648291431667654\n",
      " 62 -: 0.6489575371033354\n",
      " 63 -: 0.6493633559074516\n",
      " 64 -: 0.6491353000425195\n",
      " 65 -: 0.6497945082771266\n",
      " 66 -: 0.6500144088087892\n",
      " 67 -: 0.6504904635005546\n",
      " 68 -: 0.6502806439108522\n",
      " 69 -: 0.6502278786335394\n",
      " 70 -: 0.6502057898427318\n",
      " 71 -: 0.6501397385736689\n",
      " 72 -: 0.649523007333399\n",
      " 73 -: 0.649621225814186\n",
      " 74 -: 0.6496843476669871\n"
     ]
    }
   ],
   "source": [
    "for i in range(1,75):\n",
    "    dt13 = DecisionTreeRegressor(criterion='friedman_mse',min_samples_leaf=i)\n",
    "    dt13.fit(xtrain, ytrain)\n",
    "    ypred = dt13.predict(xtest)\n",
    "    print(f\" {i} -: {r(ytest, ypred)}\")"
   ]
  },
  {
   "cell_type": "code",
   "execution_count": 93,
   "id": "right-skill",
   "metadata": {},
   "outputs": [
    {
     "name": "stdout",
     "output_type": "stream",
     "text": [
      "MAE: 18481.408086244865\n",
      "MSE: 633716282.0506303\n",
      "RMSE: 135.94634267329468\n",
      "R2_Score: 0.6504904635005546\n"
     ]
    }
   ],
   "source": [
    "dt14 = DecisionTreeRegressor(criterion='friedman_mse',min_samples_leaf=67)\n",
    "dt14.fit(xtrain,ytrain)\n",
    "ypred=dt14.predict(xtest)\n",
    "\n",
    "print(f'MAE: {mae(ytest,ypred)}')\n",
    "print(f'MSE: {mse(ytest,ypred)}')\n",
    "print(f'RMSE: {np.sqrt(mae(ytest,ypred))}')\n",
    "print(f'R2_Score: {r(ytest,ypred)}')"
   ]
  },
  {
   "cell_type": "code",
   "execution_count": 94,
   "id": "regional-bracket",
   "metadata": {},
   "outputs": [
    {
     "name": "stdout",
     "output_type": "stream",
     "text": [
      " 1 -: 0.46339217314719505\n",
      " 2 -: 0.5263998573672927\n",
      " 3 -: 0.5488474956462652\n",
      " 4 -: 0.5687704456507543\n",
      " 5 -: 0.5792752864435052\n",
      " 6 -: 0.5816531130170066\n",
      " 7 -: 0.586780481133417\n",
      " 8 -: 0.5894690274479766\n",
      " 9 -: 0.5910721355202897\n",
      " 10 -: 0.5936569778819942\n",
      " 11 -: 0.5904778537804198\n",
      " 12 -: 0.5910117664385294\n",
      " 13 -: 0.593240637642926\n",
      " 14 -: 0.591162058828786\n",
      " 15 -: 0.593553203552248\n",
      " 16 -: 0.6010316597591139\n",
      " 17 -: 0.6006790767190886\n",
      " 18 -: 0.6017521483343864\n",
      " 19 -: 0.6019597268285424\n",
      " 20 -: 0.6020126498634424\n",
      " 21 -: 0.6019377602963842\n",
      " 22 -: 0.6040028329258523\n",
      " 23 -: 0.6056355851193852\n",
      " 24 -: 0.6058700215639605\n",
      " 25 -: 0.6060232568716055\n",
      " 26 -: 0.6061162985892927\n",
      " 27 -: 0.6046088524562929\n",
      " 28 -: 0.604323739163217\n",
      " 29 -: 0.6037698736780763\n",
      " 30 -: 0.6036876226113198\n",
      " 31 -: 0.6034797698988629\n",
      " 32 -: 0.6043994225681932\n",
      " 33 -: 0.6048317940705654\n",
      " 34 -: 0.6048662940948286\n",
      " 35 -: 0.6042469039785294\n",
      " 36 -: 0.6050618953000855\n",
      " 37 -: 0.6034424971129646\n",
      " 38 -: 0.6027830043500582\n",
      " 39 -: 0.6030020608258588\n",
      " 40 -: 0.6020703756785262\n",
      " 41 -: 0.6016923055441308\n",
      " 42 -: 0.6011804175500907\n",
      " 43 -: 0.5990014462337987\n",
      " 44 -: 0.5989531377558248\n",
      " 45 -: 0.5993769028774314\n",
      " 46 -: 0.5998425362621042\n",
      " 47 -: 0.5995101514676195\n",
      " 48 -: 0.5999420696345733\n",
      " 49 -: 0.5999806910759385\n",
      " 50 -: 0.6001796843302513\n",
      " 51 -: 0.6003803336186415\n",
      " 52 -: 0.6000445103529142\n",
      " 53 -: 0.5997501010970907\n",
      " 54 -: 0.5993474609826933\n",
      " 55 -: 0.5991787967484861\n",
      " 56 -: 0.599166058791771\n",
      " 57 -: 0.5983866720255361\n",
      " 58 -: 0.5993627886771595\n",
      " 59 -: 0.5989496249846432\n",
      " 60 -: 0.5984836997021958\n",
      " 61 -: 0.5985995126565955\n",
      " 62 -: 0.5984622108404517\n",
      " 63 -: 0.5983866465064724\n",
      " 64 -: 0.5977727536667563\n",
      " 65 -: 0.5982502695284404\n",
      " 66 -: 0.5978326706678632\n",
      " 67 -: 0.6064489875281036\n",
      " 68 -: 0.6060379032878593\n",
      " 69 -: 0.6058731180165173\n",
      " 70 -: 0.6057500964534404\n",
      " 71 -: 0.6064845691787024\n",
      " 72 -: 0.6057740088598734\n",
      " 73 -: 0.6061781577057412\n",
      " 74 -: 0.6066414047521733\n",
      " 75 -: 0.6073399802955911\n",
      " 76 -: 0.6002220617651703\n",
      " 77 -: 0.6000598212873229\n",
      " 78 -: 0.600046843334376\n",
      " 79 -: 0.5991204178632545\n",
      " 80 -: 0.5992991230024596\n",
      " 81 -: 0.5994686322912797\n",
      " 82 -: 0.599730178609228\n",
      " 83 -: 0.5997228172819692\n",
      " 84 -: 0.5997044000590193\n",
      " 85 -: 0.5997336897496035\n",
      " 86 -: 0.598785121394672\n",
      " 87 -: 0.5989442643328275\n",
      " 88 -: 0.5990995370839771\n",
      " 89 -: 0.599379893914822\n",
      " 90 -: 0.5985053150900008\n",
      " 91 -: 0.5984718337285231\n",
      " 92 -: 0.5983266225967363\n",
      " 93 -: 0.5979294683841203\n",
      " 94 -: 0.5979477783023749\n",
      " 95 -: 0.5979220520348669\n",
      " 96 -: 0.5976327171437261\n",
      " 97 -: 0.5978651600421626\n",
      " 98 -: 0.5982036396753931\n",
      " 99 -: 0.5982094831634099\n"
     ]
    }
   ],
   "source": [
    "for i in range(1,100):\n",
    "    dt15 = DecisionTreeRegressor(criterion='poisson',min_samples_leaf=i)\n",
    "    dt15.fit(xtrain, ytrain)\n",
    "    ypred = dt15.predict(xtest)\n",
    "    print(f\" {i} -: {r(ytest, ypred)}\")"
   ]
  },
  {
   "cell_type": "code",
   "execution_count": 95,
   "id": "regular-accreditation",
   "metadata": {},
   "outputs": [
    {
     "name": "stdout",
     "output_type": "stream",
     "text": [
      "MAE: 20201.087531561618\n",
      "MSE: 711954959.1957991\n",
      "RMSE: 142.130529906708\n",
      "R2_Score: 0.6073399802955911\n"
     ]
    }
   ],
   "source": [
    "dt16 = DecisionTreeRegressor(criterion='poisson',min_samples_leaf=75)\n",
    "dt16.fit(xtrain,ytrain)\n",
    "ypred=dt16.predict(xtest)\n",
    "\n",
    "print(f'MAE: {mae(ytest,ypred)}')\n",
    "print(f'MSE: {mse(ytest,ypred)}')\n",
    "print(f'RMSE: {np.sqrt(mae(ytest,ypred))}')\n",
    "print(f'R2_Score: {r(ytest,ypred)}')"
   ]
  },
  {
   "cell_type": "code",
   "execution_count": 96,
   "id": "marine-longer",
   "metadata": {},
   "outputs": [
    {
     "data": {
      "text/html": [
       "<div>\n",
       "<style scoped>\n",
       "    .dataframe tbody tr th:only-of-type {\n",
       "        vertical-align: middle;\n",
       "    }\n",
       "\n",
       "    .dataframe tbody tr th {\n",
       "        vertical-align: top;\n",
       "    }\n",
       "\n",
       "    .dataframe thead th {\n",
       "        text-align: right;\n",
       "    }\n",
       "</style>\n",
       "<table border=\"1\" class=\"dataframe\">\n",
       "  <thead>\n",
       "    <tr style=\"text-align: right;\">\n",
       "      <th></th>\n",
       "      <th>ActualY</th>\n",
       "      <th>Predicted Y</th>\n",
       "    </tr>\n",
       "  </thead>\n",
       "  <tbody>\n",
       "    <tr>\n",
       "      <th>22120</th>\n",
       "      <td>140000.0</td>\n",
       "      <td>130725.280899</td>\n",
       "    </tr>\n",
       "    <tr>\n",
       "      <th>23062</th>\n",
       "      <td>50000.0</td>\n",
       "      <td>83164.552000</td>\n",
       "    </tr>\n",
       "    <tr>\n",
       "      <th>14514</th>\n",
       "      <td>56211.0</td>\n",
       "      <td>77744.532468</td>\n",
       "    </tr>\n",
       "    <tr>\n",
       "      <th>13029</th>\n",
       "      <td>120000.0</td>\n",
       "      <td>116257.757576</td>\n",
       "    </tr>\n",
       "    <tr>\n",
       "      <th>19331</th>\n",
       "      <td>81074.0</td>\n",
       "      <td>74035.071429</td>\n",
       "    </tr>\n",
       "    <tr>\n",
       "      <th>...</th>\n",
       "      <td>...</td>\n",
       "      <td>...</td>\n",
       "    </tr>\n",
       "    <tr>\n",
       "      <th>3990</th>\n",
       "      <td>62697.0</td>\n",
       "      <td>47775.733945</td>\n",
       "    </tr>\n",
       "    <tr>\n",
       "      <th>20300</th>\n",
       "      <td>30372.0</td>\n",
       "      <td>39949.149254</td>\n",
       "    </tr>\n",
       "    <tr>\n",
       "      <th>7140</th>\n",
       "      <td>125000.0</td>\n",
       "      <td>110429.142857</td>\n",
       "    </tr>\n",
       "    <tr>\n",
       "      <th>3325</th>\n",
       "      <td>21000.0</td>\n",
       "      <td>24937.306667</td>\n",
       "    </tr>\n",
       "    <tr>\n",
       "      <th>5773</th>\n",
       "      <td>19458.0</td>\n",
       "      <td>24098.757576</td>\n",
       "    </tr>\n",
       "  </tbody>\n",
       "</table>\n",
       "<p>7988 rows × 2 columns</p>\n",
       "</div>"
      ],
      "text/plain": [
       "        ActualY    Predicted Y\n",
       "22120  140000.0  130725.280899\n",
       "23062   50000.0   83164.552000\n",
       "14514   56211.0   77744.532468\n",
       "13029  120000.0  116257.757576\n",
       "19331   81074.0   74035.071429\n",
       "...         ...            ...\n",
       "3990    62697.0   47775.733945\n",
       "20300   30372.0   39949.149254\n",
       "7140   125000.0  110429.142857\n",
       "3325    21000.0   24937.306667\n",
       "5773    19458.0   24098.757576\n",
       "\n",
       "[7988 rows x 2 columns]"
      ]
     },
     "execution_count": 96,
     "metadata": {},
     "output_type": "execute_result"
    }
   ],
   "source": [
    "dic={'ActualY': ytest,'Predicted Y':ypred1}\n",
    "predval=pd.DataFrame(dic)\n",
    "predval"
   ]
  },
  {
   "cell_type": "markdown",
   "id": "fantastic-elephant",
   "metadata": {},
   "source": [
    "# RandomForest "
   ]
  },
  {
   "cell_type": "code",
   "execution_count": 97,
   "id": "aerial-projector",
   "metadata": {},
   "outputs": [],
   "source": [
    "from sklearn.ensemble import RandomForestRegressor"
   ]
  },
  {
   "cell_type": "code",
   "execution_count": 98,
   "id": "coordinate-polls",
   "metadata": {},
   "outputs": [
    {
     "name": "stdout",
     "output_type": "stream",
     "text": [
      " 1 -: 0.4595719000045648\n",
      " 2 -: 0.5270342424435419\n",
      " 3 -: 0.5496258924410979\n",
      " 4 -: 0.5602214452271239\n",
      " 5 -: 0.5674026868653779\n",
      " 6 -: 0.5715463142537545\n",
      " 7 -: 0.5739848789726951\n",
      " 8 -: 0.5770577029234614\n",
      " 9 -: 0.5770638317714607\n",
      " 10 -: 0.5801346759774391\n",
      " 11 -: 0.581776272553436\n",
      " 12 -: 0.5827265256174878\n",
      " 13 -: 0.5830981993668256\n",
      " 14 -: 0.5841404582314171\n",
      " 15 -: 0.5853770129718687\n",
      " 16 -: 0.5855741762688872\n",
      " 17 -: 0.5866227627894164\n",
      " 18 -: 0.5870327517012688\n",
      " 19 -: 0.5880721641824816\n",
      " 20 -: 0.5882926646197228\n",
      " 21 -: 0.589052848457865\n",
      " 22 -: 0.5896518375457126\n",
      " 23 -: 0.5897187825447102\n",
      " 24 -: 0.5903261154782078\n",
      " 25 -: 0.5900193806616343\n",
      " 26 -: 0.5898866370368665\n",
      " 27 -: 0.589956326844844\n",
      " 28 -: 0.5904031654152035\n",
      " 29 -: 0.590054188699819\n",
      " 30 -: 0.590506489819603\n",
      " 31 -: 0.5909852410339232\n",
      " 32 -: 0.5910926133279866\n",
      " 33 -: 0.5909551602977356\n",
      " 34 -: 0.5912368577131706\n",
      " 35 -: 0.5915727830119024\n",
      " 36 -: 0.5917154908462638\n",
      " 37 -: 0.5916754842407288\n",
      " 38 -: 0.591461321036481\n",
      " 39 -: 0.5917606463513512\n",
      " 40 -: 0.5921215787746175\n",
      " 41 -: 0.5918927423417768\n",
      " 42 -: 0.5919570578312336\n",
      " 43 -: 0.5919868481815374\n",
      " 44 -: 0.592191557101176\n",
      " 45 -: 0.592061511323191\n",
      " 46 -: 0.5922871203010194\n",
      " 47 -: 0.5922662615110016\n",
      " 48 -: 0.5920270636314923\n",
      " 49 -: 0.5920453128843746\n"
     ]
    }
   ],
   "source": [
    "for i in range(1,50):\n",
    "    rfg1 = RandomForestRegressor(n_estimators=i,random_state=1)\n",
    "    rfg1.fit(xtrain, ytrain)\n",
    "    ypred = rfg1.predict(xtest)\n",
    "    print(f\" {i} -: {r(ytest, ypred)}\")"
   ]
  },
  {
   "cell_type": "code",
   "execution_count": 99,
   "id": "approximate-racing",
   "metadata": {},
   "outputs": [
    {
     "name": "stdout",
     "output_type": "stream",
     "text": [
      "MAE: 19768.032950744124\n",
      "MSE: 743600641.6285299\n",
      "RMSE: 140.5988369466267\n",
      "R2_Score: 0.5898866370368665\n"
     ]
    }
   ],
   "source": [
    "rfg2 = RandomForestRegressor(n_estimators=26,random_state=1)\n",
    "rfg2.fit(xtrain, ytrain)\n",
    "ypred = rfg2.predict(xtest)\n",
    "print(f'MAE: {mae(ytest,ypred)}')\n",
    "print(f'MSE: {mse(ytest,ypred)}')\n",
    "print(f'RMSE: {np.sqrt(mae(ytest,ypred))}')\n",
    "print(f'R2_Score: {r(ytest,ypred)}')"
   ]
  },
  {
   "cell_type": "markdown",
   "id": "clear-tuner",
   "metadata": {},
   "source": [
    "# AdaBoost and Gradient Boost"
   ]
  },
  {
   "cell_type": "code",
   "execution_count": 100,
   "id": "surprising-trunk",
   "metadata": {},
   "outputs": [],
   "source": [
    "from sklearn.ensemble import AdaBoostRegressor\n",
    "from sklearn.ensemble import GradientBoostingRegressor"
   ]
  },
  {
   "cell_type": "code",
   "execution_count": 101,
   "id": "touched-embassy",
   "metadata": {},
   "outputs": [
    {
     "name": "stdout",
     "output_type": "stream",
     "text": [
      "MAE: 22187.766551946803\n",
      "MSE: 781739746.7489626\n",
      "RMSE: 148.95558583667415\n",
      "R2_Score: 0.5688520173960205\n"
     ]
    }
   ],
   "source": [
    "ada = AdaBoostRegressor()\n",
    "ada.fit(xtrain, ytrain)\n",
    "ypred = ada.predict(xtest)\n",
    "print(f'MAE: {mae(ytest,ypred)}')\n",
    "print(f'MSE: {mse(ytest,ypred)}')\n",
    "print(f'RMSE: {np.sqrt(mae(ytest,ypred))}')\n",
    "print(f'R2_Score: {r(ytest,ypred)}')"
   ]
  },
  {
   "cell_type": "code",
   "execution_count": 102,
   "id": "accomplished-tamil",
   "metadata": {},
   "outputs": [
    {
     "name": "stdout",
     "output_type": "stream",
     "text": [
      "MAE: 18292.403830423078\n",
      "MSE: 620311588.3515911\n",
      "RMSE: 135.2494134198854\n",
      "R2_Score: 0.6578834695102913\n"
     ]
    }
   ],
   "source": [
    "gb = GradientBoostingRegressor()\n",
    "gb.fit(xtrain, ytrain)\n",
    "ypred2 = gb.predict(xtest)\n",
    "print(f'MAE: {mae(ytest,ypred2)}')\n",
    "print(f'MSE: {mse(ytest,ypred2)}')\n",
    "print(f'RMSE: {np.sqrt(mae(ytest,ypred2))}')\n",
    "print(f'R2_Score: {r(ytest,ypred2)}')"
   ]
  },
  {
   "cell_type": "code",
   "execution_count": 103,
   "id": "ranging-effectiveness",
   "metadata": {},
   "outputs": [
    {
     "data": {
      "text/html": [
       "<div>\n",
       "<style scoped>\n",
       "    .dataframe tbody tr th:only-of-type {\n",
       "        vertical-align: middle;\n",
       "    }\n",
       "\n",
       "    .dataframe tbody tr th {\n",
       "        vertical-align: top;\n",
       "    }\n",
       "\n",
       "    .dataframe thead th {\n",
       "        text-align: right;\n",
       "    }\n",
       "</style>\n",
       "<table border=\"1\" class=\"dataframe\">\n",
       "  <thead>\n",
       "    <tr style=\"text-align: right;\">\n",
       "      <th></th>\n",
       "      <th>ActualY</th>\n",
       "      <th>Predicted Y</th>\n",
       "    </tr>\n",
       "  </thead>\n",
       "  <tbody>\n",
       "    <tr>\n",
       "      <th>22120</th>\n",
       "      <td>140000.0</td>\n",
       "      <td>130420.697377</td>\n",
       "    </tr>\n",
       "    <tr>\n",
       "      <th>23062</th>\n",
       "      <td>50000.0</td>\n",
       "      <td>80952.742472</td>\n",
       "    </tr>\n",
       "    <tr>\n",
       "      <th>14514</th>\n",
       "      <td>56211.0</td>\n",
       "      <td>71689.492436</td>\n",
       "    </tr>\n",
       "    <tr>\n",
       "      <th>13029</th>\n",
       "      <td>120000.0</td>\n",
       "      <td>115218.934937</td>\n",
       "    </tr>\n",
       "    <tr>\n",
       "      <th>19331</th>\n",
       "      <td>81074.0</td>\n",
       "      <td>65087.357626</td>\n",
       "    </tr>\n",
       "    <tr>\n",
       "      <th>...</th>\n",
       "      <td>...</td>\n",
       "      <td>...</td>\n",
       "    </tr>\n",
       "    <tr>\n",
       "      <th>3990</th>\n",
       "      <td>62697.0</td>\n",
       "      <td>43657.591360</td>\n",
       "    </tr>\n",
       "    <tr>\n",
       "      <th>20300</th>\n",
       "      <td>30372.0</td>\n",
       "      <td>38440.249909</td>\n",
       "    </tr>\n",
       "    <tr>\n",
       "      <th>7140</th>\n",
       "      <td>125000.0</td>\n",
       "      <td>110163.077206</td>\n",
       "    </tr>\n",
       "    <tr>\n",
       "      <th>3325</th>\n",
       "      <td>21000.0</td>\n",
       "      <td>24563.751326</td>\n",
       "    </tr>\n",
       "    <tr>\n",
       "      <th>5773</th>\n",
       "      <td>19458.0</td>\n",
       "      <td>25451.807889</td>\n",
       "    </tr>\n",
       "  </tbody>\n",
       "</table>\n",
       "<p>7988 rows × 2 columns</p>\n",
       "</div>"
      ],
      "text/plain": [
       "        ActualY    Predicted Y\n",
       "22120  140000.0  130420.697377\n",
       "23062   50000.0   80952.742472\n",
       "14514   56211.0   71689.492436\n",
       "13029  120000.0  115218.934937\n",
       "19331   81074.0   65087.357626\n",
       "...         ...            ...\n",
       "3990    62697.0   43657.591360\n",
       "20300   30372.0   38440.249909\n",
       "7140   125000.0  110163.077206\n",
       "3325    21000.0   24563.751326\n",
       "5773    19458.0   25451.807889\n",
       "\n",
       "[7988 rows x 2 columns]"
      ]
     },
     "execution_count": 103,
     "metadata": {},
     "output_type": "execute_result"
    }
   ],
   "source": [
    "dic={'ActualY': ytest,'Predicted Y':ypred2}\n",
    "predval=pd.DataFrame(dic)\n",
    "predval"
   ]
  },
  {
   "cell_type": "markdown",
   "id": "sensitive-accident",
   "metadata": {},
   "source": [
    "# XGB"
   ]
  },
  {
   "cell_type": "code",
   "execution_count": 104,
   "id": "coordinated-charger",
   "metadata": {},
   "outputs": [],
   "source": [
    "from xgboost import XGBRegressor"
   ]
  },
  {
   "cell_type": "code",
   "execution_count": 105,
   "id": "ancient-nudist",
   "metadata": {},
   "outputs": [
    {
     "name": "stdout",
     "output_type": "stream",
     "text": [
      "MAE: 18292.18593941883\n",
      "MSE: 620295935.9106085\n",
      "RMSE: 135.24860790196263\n",
      "R2_Score: 0.6578921022021564\n"
     ]
    }
   ],
   "source": [
    "xgb = GradientBoostingRegressor()\n",
    "xgb.fit(xtrain, ytrain)\n",
    "ypred3 = xgb.predict(xtest)\n",
    "print(f'MAE: {mae(ytest,ypred3)}')\n",
    "print(f'MSE: {mse(ytest,ypred3)}')\n",
    "print(f'RMSE: {np.sqrt(mae(ytest,ypred3))}')\n",
    "print(f'R2_Score: {r(ytest,ypred3)}')"
   ]
  },
  {
   "cell_type": "code",
   "execution_count": 106,
   "id": "protective-thickness",
   "metadata": {},
   "outputs": [
    {
     "data": {
      "text/html": [
       "<div>\n",
       "<style scoped>\n",
       "    .dataframe tbody tr th:only-of-type {\n",
       "        vertical-align: middle;\n",
       "    }\n",
       "\n",
       "    .dataframe tbody tr th {\n",
       "        vertical-align: top;\n",
       "    }\n",
       "\n",
       "    .dataframe thead th {\n",
       "        text-align: right;\n",
       "    }\n",
       "</style>\n",
       "<table border=\"1\" class=\"dataframe\">\n",
       "  <thead>\n",
       "    <tr style=\"text-align: right;\">\n",
       "      <th></th>\n",
       "      <th>ActualY</th>\n",
       "      <th>Predicted Y</th>\n",
       "    </tr>\n",
       "  </thead>\n",
       "  <tbody>\n",
       "    <tr>\n",
       "      <th>22120</th>\n",
       "      <td>140000.0</td>\n",
       "      <td>130420.697377</td>\n",
       "    </tr>\n",
       "    <tr>\n",
       "      <th>23062</th>\n",
       "      <td>50000.0</td>\n",
       "      <td>80952.742472</td>\n",
       "    </tr>\n",
       "    <tr>\n",
       "      <th>14514</th>\n",
       "      <td>56211.0</td>\n",
       "      <td>71689.492436</td>\n",
       "    </tr>\n",
       "    <tr>\n",
       "      <th>13029</th>\n",
       "      <td>120000.0</td>\n",
       "      <td>115218.934937</td>\n",
       "    </tr>\n",
       "    <tr>\n",
       "      <th>19331</th>\n",
       "      <td>81074.0</td>\n",
       "      <td>65087.357626</td>\n",
       "    </tr>\n",
       "    <tr>\n",
       "      <th>...</th>\n",
       "      <td>...</td>\n",
       "      <td>...</td>\n",
       "    </tr>\n",
       "    <tr>\n",
       "      <th>3990</th>\n",
       "      <td>62697.0</td>\n",
       "      <td>43657.591360</td>\n",
       "    </tr>\n",
       "    <tr>\n",
       "      <th>20300</th>\n",
       "      <td>30372.0</td>\n",
       "      <td>38440.249909</td>\n",
       "    </tr>\n",
       "    <tr>\n",
       "      <th>7140</th>\n",
       "      <td>125000.0</td>\n",
       "      <td>110163.077206</td>\n",
       "    </tr>\n",
       "    <tr>\n",
       "      <th>3325</th>\n",
       "      <td>21000.0</td>\n",
       "      <td>24563.751326</td>\n",
       "    </tr>\n",
       "    <tr>\n",
       "      <th>5773</th>\n",
       "      <td>19458.0</td>\n",
       "      <td>25451.807889</td>\n",
       "    </tr>\n",
       "  </tbody>\n",
       "</table>\n",
       "<p>7988 rows × 2 columns</p>\n",
       "</div>"
      ],
      "text/plain": [
       "        ActualY    Predicted Y\n",
       "22120  140000.0  130420.697377\n",
       "23062   50000.0   80952.742472\n",
       "14514   56211.0   71689.492436\n",
       "13029  120000.0  115218.934937\n",
       "19331   81074.0   65087.357626\n",
       "...         ...            ...\n",
       "3990    62697.0   43657.591360\n",
       "20300   30372.0   38440.249909\n",
       "7140   125000.0  110163.077206\n",
       "3325    21000.0   24563.751326\n",
       "5773    19458.0   25451.807889\n",
       "\n",
       "[7988 rows x 2 columns]"
      ]
     },
     "execution_count": 106,
     "metadata": {},
     "output_type": "execute_result"
    }
   ],
   "source": [
    "dic={'ActualY': ytest,'Predicted Y':ypred3}\n",
    "predval=pd.DataFrame(dic)\n",
    "predval"
   ]
  },
  {
   "cell_type": "markdown",
   "id": "restricted-beast",
   "metadata": {},
   "source": [
    "# Ensemble Technique"
   ]
  },
  {
   "cell_type": "code",
   "execution_count": 107,
   "id": "flush-laundry",
   "metadata": {},
   "outputs": [],
   "source": [
    "models =[]\n",
    "accuracies=[]\n",
    "models.append((\"linreg    \",LinearRegression()))\n",
    "models.append((\"KNN       \",KNeighborsRegressor(n_neighbors=16)))\n",
    "models.append((\"dt      \",DecisionTreeRegressor(min_samples_leaf=67)))\n",
    "models.append((\"rf      \",RandomForestRegressor(n_estimators=26,random_state=1)))\n",
    "models.append((\"ada      \",AdaBoostRegressor()))\n",
    "models.append((\"gb      \",GradientBoostingRegressor()))\n",
    "models.append((\"xgb      \",XGBRegressor()))"
   ]
  },
  {
   "cell_type": "code",
   "execution_count": 108,
   "id": "included-intelligence",
   "metadata": {},
   "outputs": [
    {
     "name": "stdout",
     "output_type": "stream",
     "text": [
      "linreg    \n",
      "Accuracy -: 0.3431605511946122\n",
      "KNN       \n",
      "Accuracy -: 0.5814075510427107\n",
      "dt      \n",
      "Accuracy -: 0.6504904635005546\n",
      "rf      \n",
      "Accuracy -: 0.5898866370368665\n",
      "ada      \n",
      "Accuracy -: 0.5684202295944489\n",
      "gb      \n",
      "Accuracy -: 0.6578921022021564\n",
      "xgb      \n",
      "Accuracy -: 0.6449499474097752\n"
     ]
    }
   ],
   "source": [
    "for name, model in models:\n",
    "    model.fit(xtrain, ytrain)\n",
    "    ypred = model.predict(xtest)\n",
    "    print(name)\n",
    "    ac = r(ytest, ypred)\n",
    "    print(f\"Accuracy -: {ac}\")\n",
    "    accuracies.append(ac)"
   ]
  },
  {
   "cell_type": "code",
   "execution_count": 109,
   "id": "overhead-surface",
   "metadata": {},
   "outputs": [
    {
     "data": {
      "text/plain": [
       "0.5766010688544464"
      ]
     },
     "execution_count": 109,
     "metadata": {},
     "output_type": "execute_result"
    }
   ],
   "source": [
    "np.array(accuracies).mean()"
   ]
  },
  {
   "cell_type": "markdown",
   "id": "historic-collective",
   "metadata": {},
   "source": [
    "# Voting Classifier"
   ]
  },
  {
   "cell_type": "code",
   "execution_count": 110,
   "id": "partial-press",
   "metadata": {},
   "outputs": [],
   "source": [
    "from sklearn.ensemble import VotingRegressor"
   ]
  },
  {
   "cell_type": "code",
   "execution_count": 111,
   "id": "starting-aluminum",
   "metadata": {},
   "outputs": [
    {
     "data": {
      "text/plain": [
       "VotingRegressor(estimators=[('linreg    ', LinearRegression()),\n",
       "                            ('KNN       ', KNeighborsRegressor(n_neighbors=16)),\n",
       "                            ('dt      ',\n",
       "                             DecisionTreeRegressor(min_samples_leaf=67)),\n",
       "                            ('rf      ',\n",
       "                             RandomForestRegressor(n_estimators=26,\n",
       "                                                   random_state=1)),\n",
       "                            ('ada      ', AdaBoostRegressor()),\n",
       "                            ('gb      ', GradientBoostingRegressor()),\n",
       "                            ('xgb      ',\n",
       "                             XGBRegressor(base_score=0.5, booster='gbtree',\n",
       "                                          colsample_bylevel=1,\n",
       "                                          co...\n",
       "                                          colsample_bytree=1, gamma=0,\n",
       "                                          gpu_id=-1, importance_type='gain',\n",
       "                                          interaction_constraints='',\n",
       "                                          learning_rate=0.300000012,\n",
       "                                          max_delta_step=0, max_depth=6,\n",
       "                                          min_child_weight=1, missing=nan,\n",
       "                                          monotone_constraints='()',\n",
       "                                          n_estimators=100, n_jobs=4,\n",
       "                                          num_parallel_tree=1, random_state=0,\n",
       "                                          reg_alpha=0, reg_lambda=1,\n",
       "                                          scale_pos_weight=1, subsample=1,\n",
       "                                          tree_method='exact',\n",
       "                                          validate_parameters=1,\n",
       "                                          verbosity=None))])"
      ]
     },
     "execution_count": 111,
     "metadata": {},
     "output_type": "execute_result"
    }
   ],
   "source": [
    "vcs = VotingRegressor(estimators=models)\n",
    "vcs.fit(xtrain, ytrain)"
   ]
  },
  {
   "cell_type": "code",
   "execution_count": 112,
   "id": "respected-battery",
   "metadata": {},
   "outputs": [
    {
     "name": "stdout",
     "output_type": "stream",
     "text": [
      "0.6411812594146397\n"
     ]
    }
   ],
   "source": [
    "ypred4=vcs.predict(xtest)\n",
    "print(r(ytest, ypred4))"
   ]
  },
  {
   "cell_type": "code",
   "execution_count": 113,
   "id": "moved-coffee",
   "metadata": {},
   "outputs": [
    {
     "data": {
      "text/html": [
       "<div>\n",
       "<style scoped>\n",
       "    .dataframe tbody tr th:only-of-type {\n",
       "        vertical-align: middle;\n",
       "    }\n",
       "\n",
       "    .dataframe tbody tr th {\n",
       "        vertical-align: top;\n",
       "    }\n",
       "\n",
       "    .dataframe thead th {\n",
       "        text-align: right;\n",
       "    }\n",
       "</style>\n",
       "<table border=\"1\" class=\"dataframe\">\n",
       "  <thead>\n",
       "    <tr style=\"text-align: right;\">\n",
       "      <th></th>\n",
       "      <th>ActualY</th>\n",
       "      <th>Predicted Y</th>\n",
       "    </tr>\n",
       "  </thead>\n",
       "  <tbody>\n",
       "    <tr>\n",
       "      <th>22120</th>\n",
       "      <td>140000.0</td>\n",
       "      <td>124951.157478</td>\n",
       "    </tr>\n",
       "    <tr>\n",
       "      <th>23062</th>\n",
       "      <td>50000.0</td>\n",
       "      <td>80239.031403</td>\n",
       "    </tr>\n",
       "    <tr>\n",
       "      <th>14514</th>\n",
       "      <td>56211.0</td>\n",
       "      <td>65124.996792</td>\n",
       "    </tr>\n",
       "    <tr>\n",
       "      <th>13029</th>\n",
       "      <td>120000.0</td>\n",
       "      <td>110138.264368</td>\n",
       "    </tr>\n",
       "    <tr>\n",
       "      <th>19331</th>\n",
       "      <td>81074.0</td>\n",
       "      <td>65944.582199</td>\n",
       "    </tr>\n",
       "    <tr>\n",
       "      <th>...</th>\n",
       "      <td>...</td>\n",
       "      <td>...</td>\n",
       "    </tr>\n",
       "    <tr>\n",
       "      <th>3990</th>\n",
       "      <td>62697.0</td>\n",
       "      <td>44328.954677</td>\n",
       "    </tr>\n",
       "    <tr>\n",
       "      <th>20300</th>\n",
       "      <td>30372.0</td>\n",
       "      <td>43246.208338</td>\n",
       "    </tr>\n",
       "    <tr>\n",
       "      <th>7140</th>\n",
       "      <td>125000.0</td>\n",
       "      <td>106773.352886</td>\n",
       "    </tr>\n",
       "    <tr>\n",
       "      <th>3325</th>\n",
       "      <td>21000.0</td>\n",
       "      <td>29879.584720</td>\n",
       "    </tr>\n",
       "    <tr>\n",
       "      <th>5773</th>\n",
       "      <td>19458.0</td>\n",
       "      <td>30311.777603</td>\n",
       "    </tr>\n",
       "  </tbody>\n",
       "</table>\n",
       "<p>7988 rows × 2 columns</p>\n",
       "</div>"
      ],
      "text/plain": [
       "        ActualY    Predicted Y\n",
       "22120  140000.0  124951.157478\n",
       "23062   50000.0   80239.031403\n",
       "14514   56211.0   65124.996792\n",
       "13029  120000.0  110138.264368\n",
       "19331   81074.0   65944.582199\n",
       "...         ...            ...\n",
       "3990    62697.0   44328.954677\n",
       "20300   30372.0   43246.208338\n",
       "7140   125000.0  106773.352886\n",
       "3325    21000.0   29879.584720\n",
       "5773    19458.0   30311.777603\n",
       "\n",
       "[7988 rows x 2 columns]"
      ]
     },
     "execution_count": 113,
     "metadata": {},
     "output_type": "execute_result"
    }
   ],
   "source": [
    "dic={'ActualY': ytest,'Predicted Y':ypred4}\n",
    "predval=pd.DataFrame(dic)\n",
    "predval"
   ]
  },
  {
   "cell_type": "markdown",
   "id": "driven-guidance",
   "metadata": {},
   "source": [
    "# Bootstrap Aggregation(Bagging)"
   ]
  },
  {
   "cell_type": "code",
   "execution_count": 114,
   "id": "packed-rocket",
   "metadata": {},
   "outputs": [
    {
     "name": "stdout",
     "output_type": "stream",
     "text": [
      "0.6167712987949221\n"
     ]
    }
   ],
   "source": [
    "from sklearn.ensemble import BaggingRegressor\n",
    "bg= BaggingRegressor(DecisionTreeRegressor(),bootstrap=False,n_estimators=10,max_samples=1000,random_state=1)\n",
    "bg.fit(xtrain,ytrain)\n",
    "ypred=bg.predict(xtest)\n",
    "print(r(ytest,ypred))"
   ]
  },
  {
   "cell_type": "code",
   "execution_count": null,
   "id": "perceived-reasoning",
   "metadata": {},
   "outputs": [],
   "source": []
  },
  {
   "cell_type": "code",
   "execution_count": 115,
   "id": "relative-pocket",
   "metadata": {},
   "outputs": [
    {
     "data": {
      "text/html": [
       "<div>\n",
       "<style scoped>\n",
       "    .dataframe tbody tr th:only-of-type {\n",
       "        vertical-align: middle;\n",
       "    }\n",
       "\n",
       "    .dataframe tbody tr th {\n",
       "        vertical-align: top;\n",
       "    }\n",
       "\n",
       "    .dataframe thead th {\n",
       "        text-align: right;\n",
       "    }\n",
       "</style>\n",
       "<table border=\"1\" class=\"dataframe\">\n",
       "  <thead>\n",
       "    <tr style=\"text-align: right;\">\n",
       "      <th></th>\n",
       "      <th>Country</th>\n",
       "      <th>Age</th>\n",
       "      <th>EdLevel</th>\n",
       "      <th>ProfessionalExp</th>\n",
       "      <th>Employment</th>\n",
       "    </tr>\n",
       "  </thead>\n",
       "  <tbody>\n",
       "    <tr>\n",
       "      <th>0</th>\n",
       "      <td>14</td>\n",
       "      <td>36.000000</td>\n",
       "      <td>0</td>\n",
       "      <td>13.0</td>\n",
       "      <td>0</td>\n",
       "    </tr>\n",
       "    <tr>\n",
       "      <th>1</th>\n",
       "      <td>13</td>\n",
       "      <td>22.000000</td>\n",
       "      <td>2</td>\n",
       "      <td>4.0</td>\n",
       "      <td>0</td>\n",
       "    </tr>\n",
       "    <tr>\n",
       "      <th>2</th>\n",
       "      <td>13</td>\n",
       "      <td>23.000000</td>\n",
       "      <td>0</td>\n",
       "      <td>2.0</td>\n",
       "      <td>0</td>\n",
       "    </tr>\n",
       "    <tr>\n",
       "      <th>3</th>\n",
       "      <td>11</td>\n",
       "      <td>49.000000</td>\n",
       "      <td>1</td>\n",
       "      <td>7.0</td>\n",
       "      <td>0</td>\n",
       "    </tr>\n",
       "    <tr>\n",
       "      <th>4</th>\n",
       "      <td>7</td>\n",
       "      <td>53.000000</td>\n",
       "      <td>1</td>\n",
       "      <td>20.0</td>\n",
       "      <td>0</td>\n",
       "    </tr>\n",
       "    <tr>\n",
       "      <th>...</th>\n",
       "      <td>...</td>\n",
       "      <td>...</td>\n",
       "      <td>...</td>\n",
       "      <td>...</td>\n",
       "      <td>...</td>\n",
       "    </tr>\n",
       "    <tr>\n",
       "      <th>26620</th>\n",
       "      <td>14</td>\n",
       "      <td>32.164388</td>\n",
       "      <td>2</td>\n",
       "      <td>4.0</td>\n",
       "      <td>0</td>\n",
       "    </tr>\n",
       "    <tr>\n",
       "      <th>26621</th>\n",
       "      <td>8</td>\n",
       "      <td>32.164388</td>\n",
       "      <td>0</td>\n",
       "      <td>4.0</td>\n",
       "      <td>0</td>\n",
       "    </tr>\n",
       "    <tr>\n",
       "      <th>26622</th>\n",
       "      <td>8</td>\n",
       "      <td>32.164388</td>\n",
       "      <td>0</td>\n",
       "      <td>5.0</td>\n",
       "      <td>0</td>\n",
       "    </tr>\n",
       "    <tr>\n",
       "      <th>26623</th>\n",
       "      <td>8</td>\n",
       "      <td>32.164388</td>\n",
       "      <td>0</td>\n",
       "      <td>3.0</td>\n",
       "      <td>0</td>\n",
       "    </tr>\n",
       "    <tr>\n",
       "      <th>26624</th>\n",
       "      <td>8</td>\n",
       "      <td>32.164388</td>\n",
       "      <td>0</td>\n",
       "      <td>0.5</td>\n",
       "      <td>0</td>\n",
       "    </tr>\n",
       "  </tbody>\n",
       "</table>\n",
       "<p>26625 rows × 5 columns</p>\n",
       "</div>"
      ],
      "text/plain": [
       "       Country        Age  EdLevel  ProfessionalExp  Employment\n",
       "0           14  36.000000        0             13.0           0\n",
       "1           13  22.000000        2              4.0           0\n",
       "2           13  23.000000        0              2.0           0\n",
       "3           11  49.000000        1              7.0           0\n",
       "4            7  53.000000        1             20.0           0\n",
       "...        ...        ...      ...              ...         ...\n",
       "26620       14  32.164388        2              4.0           0\n",
       "26621        8  32.164388        0              4.0           0\n",
       "26622        8  32.164388        0              5.0           0\n",
       "26623        8  32.164388        0              3.0           0\n",
       "26624        8  32.164388        0              0.5           0\n",
       "\n",
       "[26625 rows x 5 columns]"
      ]
     },
     "execution_count": 115,
     "metadata": {},
     "output_type": "execute_result"
    }
   ],
   "source": [
    "x"
   ]
  },
  {
   "cell_type": "code",
   "execution_count": 116,
   "id": "bigger-ribbon",
   "metadata": {},
   "outputs": [
    {
     "data": {
      "text/plain": [
       "array([['United States', '30', 'Master’s degree', '15', 'full-time']],\n",
       "      dtype='<U15')"
      ]
     },
     "execution_count": 116,
     "metadata": {},
     "output_type": "execute_result"
    }
   ],
   "source": [
    "X = np.array([[\"United States\",30, 'Master’s degree',15,'full-time' ]])\n",
    "X"
   ]
  },
  {
   "cell_type": "code",
   "execution_count": 117,
   "id": "improving-state",
   "metadata": {},
   "outputs": [
    {
     "data": {
      "text/plain": [
       "array([[14., 30.,  2., 15.,  0.]])"
      ]
     },
     "execution_count": 117,
     "metadata": {},
     "output_type": "execute_result"
    }
   ],
   "source": [
    "X[:, 0] = le_country.transform(X[:,0])\n",
    "X[:, 2] = le_education.transform(X[:,2])\n",
    "X[:, 4] = le_emp.transform(X[:,4])\n",
    "X = X.astype(float)\n",
    "X"
   ]
  },
  {
   "cell_type": "code",
   "execution_count": 118,
   "id": "incorporate-snapshot",
   "metadata": {},
   "outputs": [
    {
     "data": {
      "text/plain": [
       "array([146467.78125])"
      ]
     },
     "execution_count": 118,
     "metadata": {},
     "output_type": "execute_result"
    }
   ],
   "source": [
    "y_pred = dt6.predict(X)\n",
    "y_pred"
   ]
  },
  {
   "cell_type": "code",
   "execution_count": 119,
   "id": "foster-porcelain",
   "metadata": {},
   "outputs": [],
   "source": [
    "import pickle"
   ]
  },
  {
   "cell_type": "code",
   "execution_count": 120,
   "id": "blond-musician",
   "metadata": {},
   "outputs": [],
   "source": [
    "data = {\"model\": gb, \"le_country\": le_country, \"le_education\": le_education,'le_emp':le_emp}\n",
    "with open('project.pkl', 'wb') as file:\n",
    "    pickle.dump(data, file)"
   ]
  },
  {
   "cell_type": "code",
   "execution_count": 121,
   "id": "close-enforcement",
   "metadata": {},
   "outputs": [],
   "source": [
    "with open('project.pkl', 'rb') as file:\n",
    "    data = pickle.load(file)\n",
    "gb = data[\"model\"]\n",
    "le_country = data[\"le_country\"]\n",
    "le_education = data[\"le_education\"]\n",
    "l_emp=data['le_emp']"
   ]
  },
  {
   "cell_type": "code",
   "execution_count": 122,
   "id": "negative-charles",
   "metadata": {},
   "outputs": [
    {
     "data": {
      "text/plain": [
       "array([135570.25750398])"
      ]
     },
     "execution_count": 122,
     "metadata": {},
     "output_type": "execute_result"
    }
   ],
   "source": [
    "y_pred = gb.predict(X)\n",
    "y_pred"
   ]
  },
  {
   "cell_type": "code",
   "execution_count": null,
   "id": "enormous-address",
   "metadata": {},
   "outputs": [],
   "source": []
  },
  {
   "cell_type": "code",
   "execution_count": null,
   "id": "chubby-happiness",
   "metadata": {},
   "outputs": [],
   "source": []
  }
 ],
 "metadata": {
  "kernelspec": {
   "display_name": "Python 3",
   "language": "python",
   "name": "python3"
  },
  "language_info": {
   "codemirror_mode": {
    "name": "ipython",
    "version": 3
   },
   "file_extension": ".py",
   "mimetype": "text/x-python",
   "name": "python",
   "nbconvert_exporter": "python",
   "pygments_lexer": "ipython3",
   "version": "3.8.6"
  }
 },
 "nbformat": 4,
 "nbformat_minor": 5
}
